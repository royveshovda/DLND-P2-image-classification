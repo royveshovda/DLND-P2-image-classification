{
 "cells": [
  {
   "cell_type": "markdown",
   "metadata": {
    "collapsed": true,
    "deletable": true,
    "editable": true
   },
   "source": [
    "# Image Classification\n",
    "In this project, you'll classify images from the [CIFAR-10 dataset](https://www.cs.toronto.edu/~kriz/cifar.html).  The dataset consists of airplanes, dogs, cats, and other objects. You'll preprocess the images, then train a convolutional neural network on all the samples. The images need to be normalized and the labels need to be one-hot encoded.  You'll get to apply what you learned and build a convolutional, max pooling, dropout, and fully connected layers.  At the end, you'll get to see your neural network's predictions on the sample images.\n",
    "## Get the Data\n",
    "Run the following cell to download the [CIFAR-10 dataset for python](https://www.cs.toronto.edu/~kriz/cifar-10-python.tar.gz)."
   ]
  },
  {
   "cell_type": "code",
   "execution_count": 1,
   "metadata": {
    "collapsed": false,
    "deletable": true,
    "editable": true
   },
   "outputs": [
    {
     "name": "stderr",
     "output_type": "stream",
     "text": [
      "CIFAR-10 Dataset: 171MB [04:46, 669KB/s]                               \n"
     ]
    },
    {
     "name": "stdout",
     "output_type": "stream",
     "text": [
      "All files found!\n"
     ]
    }
   ],
   "source": [
    "\"\"\"\n",
    "DON'T MODIFY ANYTHING IN THIS CELL THAT IS BELOW THIS LINE\n",
    "\"\"\"\n",
    "from urllib.request import urlretrieve\n",
    "from os.path import isfile, isdir\n",
    "from tqdm import tqdm\n",
    "import problem_unittests as tests\n",
    "import tarfile\n",
    "\n",
    "cifar10_dataset_folder_path = 'cifar-10-batches-py'\n",
    "\n",
    "class DLProgress(tqdm):\n",
    "    last_block = 0\n",
    "\n",
    "    def hook(self, block_num=1, block_size=1, total_size=None):\n",
    "        self.total = total_size\n",
    "        self.update((block_num - self.last_block) * block_size)\n",
    "        self.last_block = block_num\n",
    "\n",
    "if not isfile('cifar-10-python.tar.gz'):\n",
    "    with DLProgress(unit='B', unit_scale=True, miniters=1, desc='CIFAR-10 Dataset') as pbar:\n",
    "        urlretrieve(\n",
    "            'https://www.cs.toronto.edu/~kriz/cifar-10-python.tar.gz',\n",
    "            'cifar-10-python.tar.gz',\n",
    "            pbar.hook)\n",
    "\n",
    "if not isdir(cifar10_dataset_folder_path):\n",
    "    with tarfile.open('cifar-10-python.tar.gz') as tar:\n",
    "        tar.extractall()\n",
    "        tar.close()\n",
    "\n",
    "\n",
    "tests.test_folder_path(cifar10_dataset_folder_path)"
   ]
  },
  {
   "cell_type": "markdown",
   "metadata": {
    "deletable": true,
    "editable": true
   },
   "source": [
    "## Explore the Data\n",
    "The dataset is broken into batches to prevent your machine from running out of memory.  The CIFAR-10 dataset consists of 5 batches, named `data_batch_1`, `data_batch_2`, etc.. Each batch contains the labels and images that are one of the following:\n",
    "* airplane\n",
    "* automobile\n",
    "* bird\n",
    "* cat\n",
    "* deer\n",
    "* dog\n",
    "* frog\n",
    "* horse\n",
    "* ship\n",
    "* truck\n",
    "\n",
    "Understanding a dataset is part of making predictions on the data.  Play around with the code cell below by changing the `batch_id` and `sample_id`. The `batch_id` is the id for a batch (1-5). The `sample_id` is the id for a image and label pair in the batch.\n",
    "\n",
    "Ask yourself \"What are all possible labels?\", \"What is the range of values for the image data?\", \"Are the labels in order or random?\".  Answers to questions like these will help you preprocess the data and end up with better predictions."
   ]
  },
  {
   "cell_type": "code",
   "execution_count": 7,
   "metadata": {
    "collapsed": false,
    "deletable": true,
    "editable": true
   },
   "outputs": [
    {
     "name": "stdout",
     "output_type": "stream",
     "text": [
      "\n",
      "Stats of batch 4:\n",
      "Samples: 10000\n",
      "Label Counts: {0: 1003, 1: 963, 2: 1041, 3: 976, 4: 1004, 5: 1021, 6: 1004, 7: 981, 8: 1024, 9: 983}\n",
      "First 20 Labels: [0, 6, 0, 2, 7, 2, 1, 2, 4, 1, 5, 6, 6, 3, 1, 3, 5, 5, 8, 1]\n",
      "\n",
      "Example of Image 5:\n",
      "Image - Min Value: 13 Max Value: 169\n",
      "Image - Shape: (32, 32, 3)\n",
      "Label - Label Id: 2 Name: bird\n"
     ]
    },
    {
     "data": {
      "image/png": "[encoded data removed]",
      "text/plain": [
       "<matplotlib.figure.Figure at 0x114e7d080>"
      ]
     },
     "metadata": {
      "image/png": {
       "height": 250,
       "width": 253
      }
     },
     "output_type": "display_data"
    }
   ],
   "source": [
    "%matplotlib inline\n",
    "%config InlineBackend.figure_format = 'retina'\n",
    "\n",
    "import helper\n",
    "import numpy as np\n",
    "\n",
    "# Explore the dataset\n",
    "batch_id = 4\n",
    "sample_id = 5\n",
    "helper.display_stats(cifar10_dataset_folder_path, batch_id, sample_id)"
   ]
  },
  {
   "cell_type": "markdown",
   "metadata": {
    "deletable": true,
    "editable": true
   },
   "source": [
    "## Implement Preprocess Functions\n",
    "### Normalize\n",
    "In the cell below, implement the `normalize` function to take in image data, `x`, and return it as a normalized Numpy array. The values should be in the range of 0 to 1, inclusive.  The return object should be the same shape as `x`."
   ]
  },
  {
   "cell_type": "code",
   "execution_count": 9,
   "metadata": {
    "collapsed": false,
    "deletable": true,
    "editable": true
   },
   "outputs": [
    {
     "name": "stdout",
     "output_type": "stream",
     "text": [
      "Tests Passed\n"
     ]
    }
   ],
   "source": [
    "def normalize(x):\n",
    "    \"\"\"\n",
    "    Normalize a list of sample image data in the range of 0 to 1\n",
    "    : x: List of image data.  The image shape is (32, 32, 3)\n",
    "    : return: Numpy array of normalize data\n",
    "    \"\"\"\n",
    "    return x/255.0\n",
    "\n",
    "\n",
    "\"\"\"\n",
    "DON'T MODIFY ANYTHING IN THIS CELL THAT IS BELOW THIS LINE\n",
    "\"\"\"\n",
    "tests.test_normalize(normalize)"
   ]
  },
  {
   "cell_type": "markdown",
   "metadata": {
    "deletable": true,
    "editable": true
   },
   "source": [
    "### One-hot encode\n",
    "Just like the previous code cell, you'll be implementing a function for preprocessing.  This time, you'll implement the `one_hot_encode` function. The input, `x`, are a list of labels.  Implement the function to return the list of labels as One-Hot encoded Numpy array.  The possible values for labels are 0 to 9. The one-hot encoding function should return the same encoding for each value between each call to `one_hot_encode`.  Make sure to save the map of encodings outside the function.\n",
    "\n",
    "Hint: Don't reinvent the wheel."
   ]
  },
  {
   "cell_type": "code",
   "execution_count": 21,
   "metadata": {
    "collapsed": false,
    "deletable": true,
    "editable": true
   },
   "outputs": [
    {
     "name": "stdout",
     "output_type": "stream",
     "text": [
      "Tests Passed\n"
     ]
    }
   ],
   "source": [
    "def one_hot_encode(x):\n",
    "    \"\"\"\n",
    "    One hot encode a list of sample labels. Return a one-hot encoded vector for each label.\n",
    "    : x: List of sample Labels\n",
    "    : return: Numpy array of one-hot encoded labels\n",
    "    \"\"\"\n",
    "    encodings = np.zeros((len(x), 10))\n",
    "    for i, l in enumerate(x):\n",
    "        encodings[i][l] = 1.\n",
    "    return encodings\n",
    "\n",
    "\n",
    "\"\"\"\n",
    "DON'T MODIFY ANYTHING IN THIS CELL THAT IS BELOW THIS LINE\n",
    "\"\"\"\n",
    "tests.test_one_hot_encode(one_hot_encode)"
   ]
  },
  {
   "cell_type": "markdown",
   "metadata": {
    "deletable": true,
    "editable": true
   },
   "source": [
    "### Randomize Data\n",
    "As you saw from exploring the data above, the order of the samples are randomized.  It doesn't hurt to randomize it again, but you don't need to for this dataset."
   ]
  },
  {
   "cell_type": "markdown",
   "metadata": {
    "deletable": true,
    "editable": true
   },
   "source": [
    "## Preprocess all the data and save it\n",
    "Running the code cell below will preprocess all the CIFAR-10 data and save it to file. The code below also uses 10% of the training data for validation."
   ]
  },
  {
   "cell_type": "code",
   "execution_count": 14,
   "metadata": {
    "collapsed": false,
    "deletable": true,
    "editable": true
   },
   "outputs": [],
   "source": [
    "\"\"\"\n",
    "DON'T MODIFY ANYTHING IN THIS CELL\n",
    "\"\"\"\n",
    "# Preprocess Training, Validation, and Testing Data\n",
    "helper.preprocess_and_save_data(cifar10_dataset_folder_path, normalize, one_hot_encode)"
   ]
  },
  {
   "cell_type": "markdown",
   "metadata": {
    "deletable": true,
    "editable": true
   },
   "source": [
    "# Check Point\n",
    "This is your first checkpoint.  If you ever decide to come back to this notebook or have to restart the notebook, you can start from here.  The preprocessed data has been saved to disk."
   ]
  },
  {
   "cell_type": "code",
   "execution_count": 1,
   "metadata": {
    "collapsed": true,
    "deletable": true,
    "editable": true
   },
   "outputs": [],
   "source": [
    "\"\"\"\n",
    "DON'T MODIFY ANYTHING IN THIS CELL\n",
    "\"\"\"\n",
    "import pickle\n",
    "import problem_unittests as tests\n",
    "import helper\n",
    "\n",
    "# Load the Preprocessed Validation data\n",
    "valid_features, valid_labels = pickle.load(open('preprocess_validation.p', mode='rb'))"
   ]
  },
  {
   "cell_type": "markdown",
   "metadata": {
    "deletable": true,
    "editable": true
   },
   "source": [
    "## Build the network\n",
    "For the neural network, you'll build each layer into a function.  Most of the code you've seen has been outside of functions. To test your code more thoroughly, we require that you put each layer in a function.  This allows us to give you better feedback and test for simple mistakes using our unittests before you submit your project.\n",
    "\n",
    "If you're finding it hard to dedicate enough time for this course a week, we've provided a small shortcut to this part of the project. In the next couple of problems, you'll have the option to use [TensorFlow Layers](https://www.tensorflow.org/api_docs/python/tf/layers) or [TensorFlow Layers (contrib)](https://www.tensorflow.org/api_guides/python/contrib.layers) to build each layer, except \"Convolutional & Max Pooling\" layer.  TF Layers is similar to Keras's and TFLearn's abstraction to layers, so it's easy to pickup.\n",
    "\n",
    "If you would like to get the most of this course, try to solve all the problems without TF Layers.  Let's begin!\n",
    "### Input\n",
    "The neural network needs to read the image data, one-hot encoded labels, and dropout keep probability. Implement the following functions\n",
    "* Implement `neural_net_image_input`\n",
    " * Return a [TF Placeholder](https://www.tensorflow.org/api_docs/python/tf/placeholder)\n",
    " * Set the shape using `image_shape` with batch size set to `None`.\n",
    " * Name the TensorFlow placeholder \"x\" using the TensorFlow `name` parameter in the [TF Placeholder](https://www.tensorflow.org/api_docs/python/tf/placeholder).\n",
    "* Implement `neural_net_label_input`\n",
    " * Return a [TF Placeholder](https://www.tensorflow.org/api_docs/python/tf/placeholder)\n",
    " * Set the shape using `n_classes` with batch size set to `None`.\n",
    " * Name the TensorFlow placeholder \"y\" using the TensorFlow `name` parameter in the [TF Placeholder](https://www.tensorflow.org/api_docs/python/tf/placeholder).\n",
    "* Implement `neural_net_keep_prob_input`\n",
    " * Return a [TF Placeholder](https://www.tensorflow.org/api_docs/python/tf/placeholder) for dropout keep probability.\n",
    " * Name the TensorFlow placeholder \"keep_prob\" using the TensorFlow `name` parameter in the [TF Placeholder](https://www.tensorflow.org/api_docs/python/tf/placeholder).\n",
    "\n",
    "These names will be used at the end of the project to load your saved model.\n",
    "\n",
    "Note: `None` for shapes in TensorFlow allow for a dynamic size."
   ]
  },
  {
   "cell_type": "code",
   "execution_count": 2,
   "metadata": {
    "collapsed": false,
    "deletable": true,
    "editable": true
   },
   "outputs": [
    {
     "name": "stdout",
     "output_type": "stream",
     "text": [
      "Image Input Tests Passed.\n",
      "Label Input Tests Passed.\n",
      "Keep Prob Tests Passed.\n"
     ]
    }
   ],
   "source": [
    "import tensorflow as tf\n",
    "\n",
    "def neural_net_image_input(image_shape):\n",
    "    \"\"\"\n",
    "    Return a Tensor for a bach of image input\n",
    "    : image_shape: Shape of the images\n",
    "    : return: Tensor for image input.\n",
    "    \"\"\"\n",
    "    return tf.placeholder(tf.float32,[None, image_shape[0], image_shape[1], image_shape[2]], name='x')\n",
    "\n",
    "\n",
    "def neural_net_label_input(n_classes):\n",
    "    \"\"\"\n",
    "    Return a Tensor for a batch of label input\n",
    "    : n_classes: Number of classes\n",
    "    : return: Tensor for label input.\n",
    "    \"\"\"\n",
    "    return tf.placeholder(tf.float32, [None, n_classes], name=\"y\")\n",
    "\n",
    "\n",
    "def neural_net_keep_prob_input():\n",
    "    \"\"\"\n",
    "    Return a Tensor for keep probability\n",
    "    : return: Tensor for keep probability.\n",
    "    \"\"\"\n",
    "    return tf.placeholder(tf.float32, name=\"keep_prob\")\n",
    "\n",
    "\n",
    "\"\"\"\n",
    "DON'T MODIFY ANYTHING IN THIS CELL THAT IS BELOW THIS LINE\n",
    "\"\"\"\n",
    "tf.reset_default_graph()\n",
    "tests.test_nn_image_inputs(neural_net_image_input)\n",
    "tests.test_nn_label_inputs(neural_net_label_input)\n",
    "tests.test_nn_keep_prob_inputs(neural_net_keep_prob_input)"
   ]
  },
  {
   "cell_type": "markdown",
   "metadata": {
    "deletable": true,
    "editable": true
   },
   "source": [
    "### Convolution and Max Pooling Layer\n",
    "Convolution layers have a lot of success with images. For this code cell, you should implement the function `conv2d_maxpool` to apply convolution then max pooling:\n",
    "* Create the weight and bias using `conv_ksize`, `conv_num_outputs` and the shape of `x_tensor`.\n",
    "* Apply a convolution to `x_tensor` using weight and `conv_strides`.\n",
    " * We recommend you use same padding, but you're welcome to use any padding.\n",
    "* Add bias\n",
    "* Add a nonlinear activation to the convolution.\n",
    "* Apply Max Pooling using `pool_ksize` and `pool_strides`.\n",
    " * We recommend you use same padding, but you're welcome to use any padding.\n",
    "\n",
    "Note: You **can't** use [TensorFlow Layers](https://www.tensorflow.org/api_docs/python/tf/layers) or [TensorFlow Layers (contrib)](https://www.tensorflow.org/api_guides/python/contrib.layers) for this layer.  You're free to use any TensorFlow package for all the other layers."
   ]
  },
  {
   "cell_type": "code",
   "execution_count": 3,
   "metadata": {
    "collapsed": false,
    "deletable": true,
    "editable": true
   },
   "outputs": [
    {
     "name": "stdout",
     "output_type": "stream",
     "text": [
      "Tests Passed\n"
     ]
    }
   ],
   "source": [
    "def conv2d_maxpool(x_tensor, conv_num_outputs, conv_ksize, conv_strides, pool_ksize, pool_strides):\n",
    "    \"\"\"\n",
    "    Apply convolution then max pooling to x_tensor\n",
    "    :param x_tensor: TensorFlow Tensor\n",
    "    :param conv_num_outputs: Number of outputs for the convolutional layer\n",
    "    :param conv_strides: Stride 2-D Tuple for convolution\n",
    "    :param pool_ksize: kernal size 2-D Tuple for pool\n",
    "    :param pool_strides: Stride 2-D Tuple for pool\n",
    "    : return: A tensor that represents convolution and max pooling of x_tensor\n",
    "    \"\"\"\n",
    "    mu = 0\n",
    "    sigma = 0.1\n",
    "    #convolution kernel size\n",
    "    conv_h,conv_w = conv_ksize\n",
    "    #output depth \n",
    "    output_depth = conv_num_outputs\n",
    "    #get [B,H,W,C] size, in_batch, in_height, in_weight, & in_depth\n",
    "    in_b, in_h, in_w, in_depth = x_tensor.shape\n",
    "    #weights\n",
    "    shape=(int(conv_h), int(conv_w), int(in_depth), int(output_depth))\n",
    "    F_W = tf.Variable(tf.truncated_normal(shape=shape, mean = mu, stddev = sigma))\n",
    "    #bias\n",
    "    F_B = tf.Variable(tf.zeros([int(output_depth)]))\n",
    "    s_h,s_w = conv_strides\n",
    "    padding = 'VALID'\n",
    "    conv = tf.nn.conv2d(x_tensor, F_W, strides=[1, int(s_h), int(s_w), 1], padding=padding) + F_B\n",
    "    conv = tf.nn.relu(conv)\n",
    "    pool_h, pool_w = pool_ksize\n",
    "    pool_h_s,pool_w_s = pool_strides\n",
    "    conv = tf.nn.max_pool(conv, ksize=[1, pool_h, pool_w, 1],strides=[1, pool_h_s, pool_w_s, 1],padding=padding)\n",
    "    return conv\n",
    "\n",
    "\n",
    "\"\"\"\n",
    "DON'T MODIFY ANYTHING IN THIS CELL THAT IS BELOW THIS LINE\n",
    "\"\"\"\n",
    "tests.test_con_pool(conv2d_maxpool)"
   ]
  },
  {
   "cell_type": "markdown",
   "metadata": {
    "deletable": true,
    "editable": true
   },
   "source": [
    "### Flatten Layer\n",
    "Implement the `flatten` function to change the dimension of `x_tensor` from a 4-D tensor to a 2-D tensor.  The output should be the shape (*Batch Size*, *Flattened Image Size*). You can use [TensorFlow Layers](https://www.tensorflow.org/api_docs/python/tf/layers) or [TensorFlow Layers (contrib)](https://www.tensorflow.org/api_guides/python/contrib.layers) for this layer."
   ]
  },
  {
   "cell_type": "code",
   "execution_count": 4,
   "metadata": {
    "collapsed": false,
    "deletable": true,
    "editable": true
   },
   "outputs": [
    {
     "name": "stdout",
     "output_type": "stream",
     "text": [
      "Tests Passed\n"
     ]
    }
   ],
   "source": [
    "def flatten(x_tensor):\n",
    "    \"\"\"\n",
    "    Flatten x_tensor to (Batch Size, Flattened Image Size)\n",
    "    : x_tensor: A tensor of size (Batch Size, ...), where ... are the image dimensions.\n",
    "    : return: A tensor of size (Batch Size, Flattened Image Size).\n",
    "    \"\"\"\n",
    "    return tf.reshape(x_tensor, [-1, int(x_tensor.shape[1])*int(x_tensor.shape[2])*int(x_tensor.shape[3])])\n",
    "\n",
    "\n",
    "\"\"\"\n",
    "DON'T MODIFY ANYTHING IN THIS CELL THAT IS BELOW THIS LINE\n",
    "\"\"\"\n",
    "tests.test_flatten(flatten)"
   ]
  },
  {
   "cell_type": "markdown",
   "metadata": {
    "deletable": true,
    "editable": true
   },
   "source": [
    "### Fully-Connected Layer\n",
    "Implement the `fully_conn` function to apply a fully connected layer to `x_tensor` with the shape (*Batch Size*, *num_outputs*). You can use [TensorFlow Layers](https://www.tensorflow.org/api_docs/python/tf/layers) or [TensorFlow Layers (contrib)](https://www.tensorflow.org/api_guides/python/contrib.layers) for this layer."
   ]
  },
  {
   "cell_type": "code",
   "execution_count": 5,
   "metadata": {
    "collapsed": false,
    "deletable": true,
    "editable": true
   },
   "outputs": [
    {
     "name": "stdout",
     "output_type": "stream",
     "text": [
      "Tests Passed\n"
     ]
    }
   ],
   "source": [
    "def fully_conn(x_tensor, num_outputs):\n",
    "    \"\"\"\n",
    "    Apply a fully connected layer to x_tensor using weight and bias\n",
    "    : x_tensor: A 2-D tensor where the first dimension is batch size.\n",
    "    : num_outputs: The number of output that the new tensor should be.\n",
    "    : return: A 2-D tensor where the second dimension is num_outputs.\n",
    "    \"\"\"\n",
    "    mu = 0\n",
    "    sigma = 0.1\n",
    "    shape=(x_tensor.get_shape().as_list()[1], num_outputs)\n",
    "    w = tf.Variable(tf.random_normal(shape = shape, mean = mu, stddev = sigma))\n",
    "    b = tf.Variable(tf.zeros([num_outputs]))\n",
    "    y = tf.nn.relu(tf.add(tf.matmul(x_tensor, w), b))\n",
    "    return y\n",
    "\n",
    "\n",
    "\"\"\"\n",
    "DON'T MODIFY ANYTHING IN THIS CELL THAT IS BELOW THIS LINE\n",
    "\"\"\"\n",
    "tests.test_fully_conn(fully_conn)"
   ]
  },
  {
   "cell_type": "markdown",
   "metadata": {
    "deletable": true,
    "editable": true
   },
   "source": [
    "### Output Layer\n",
    "Implement the `output` function to apply a fully connected layer to `x_tensor` with the shape (*Batch Size*, *num_outputs*). You can use [TensorFlow Layers](https://www.tensorflow.org/api_docs/python/tf/layers) or [TensorFlow Layers (contrib)](https://www.tensorflow.org/api_guides/python/contrib.layers) for this layer.\n",
    "\n",
    "Note: Activation, softmax, or cross entropy shouldn't be applied to this."
   ]
  },
  {
   "cell_type": "code",
   "execution_count": 6,
   "metadata": {
    "collapsed": false,
    "deletable": true,
    "editable": true
   },
   "outputs": [
    {
     "name": "stdout",
     "output_type": "stream",
     "text": [
      "Tests Passed\n"
     ]
    }
   ],
   "source": [
    "def output(x_tensor, num_outputs):\n",
    "    \"\"\"\n",
    "    Apply a output layer to x_tensor using weight and bias\n",
    "    : x_tensor: A 2-D tensor where the first dimension is batch size.\n",
    "    : num_outputs: The number of output that the new tensor should be.\n",
    "    : return: A 2-D tensor where the second dimension is num_outputs.\n",
    "    \"\"\"\n",
    "    mu = 0\n",
    "    sigma = 0.1\n",
    "    shape = (x_tensor.get_shape().as_list()[1], num_outputs)\n",
    "    w = tf.Variable(tf.random_normal(shape = shape, mean = mu, stddev = sigma))\n",
    "    b = tf.Variable(tf.random_normal([num_outputs]))\n",
    "    y = tf.add(tf.matmul(x_tensor, w), b)\n",
    "    return y\n",
    "\n",
    "\n",
    "\"\"\"\n",
    "DON'T MODIFY ANYTHING IN THIS CELL THAT IS BELOW THIS LINE\n",
    "\"\"\"\n",
    "tests.test_output(output)"
   ]
  },
  {
   "cell_type": "markdown",
   "metadata": {
    "deletable": true,
    "editable": true
   },
   "source": [
    "### Create Convolutional Model\n",
    "Implement the function `conv_net` to create a convolutional neural network model. The function takes in a batch of images, `x`, and outputs logits.  Use the layers you created above to create this model:\n",
    "\n",
    "* Apply 1, 2, or 3 Convolution and Max Pool layers\n",
    "* Apply a Flatten Layer\n",
    "* Apply 1, 2, or 3 Fully Connected Layers\n",
    "* Apply an Output Layer\n",
    "* Return the output\n",
    "* Apply [TensorFlow's Dropout](https://www.tensorflow.org/api_docs/python/tf/nn/dropout) to one or more layers in the model using `keep_prob`. "
   ]
  },
  {
   "cell_type": "code",
   "execution_count": 7,
   "metadata": {
    "collapsed": false,
    "deletable": true,
    "editable": true
   },
   "outputs": [
    {
     "name": "stdout",
     "output_type": "stream",
     "text": [
      "Neural Network Built!\n"
     ]
    }
   ],
   "source": [
    "def conv_net(x, keep_prob):\n",
    "    \"\"\"\n",
    "    Create a convolutional neural network model\n",
    "    : x: Placeholder tensor that holds image data.\n",
    "    : keep_prob: Placeholder tensor that hold dropout keep probability.\n",
    "    : return: Tensor that represents logits\n",
    "    \"\"\"\n",
    "    # TODO: Apply 1, 2, or 3 Convolution and Max Pool layers\n",
    "    #    Play around with different number of outputs, kernel size and stride\n",
    "    # Function Definition from Above:\n",
    "    #    conv2d_maxpool(x_tensor, conv_num_outputs, conv_ksize, conv_strides, pool_ksize, pool_strides)\n",
    "    conv1 = conv2d_maxpool(x_tensor=x,\n",
    "                           conv_num_outputs=6,\n",
    "                           conv_ksize=(5,5),\n",
    "                           conv_strides=(1,1),\n",
    "                           pool_ksize=(2,2),\n",
    "                           pool_strides=(2,2))\n",
    "    \n",
    "    conv2 = conv2d_maxpool(x_tensor=conv1,\n",
    "                           conv_num_outputs=16,\n",
    "                           conv_ksize=(5,5),\n",
    "                           conv_strides=(1,1),\n",
    "                           pool_ksize=(2,2),\n",
    "                           pool_strides=(2,2))\n",
    "\n",
    "    # Apply a Flatten Layer\n",
    "    # Function Definition from Above:\n",
    "    #   flatten(x_tensor)\n",
    "    flat_layer = flatten(conv2)\n",
    "    \n",
    "\n",
    "    # TODO: Apply 1, 2, or 3 Fully Connected Layers\n",
    "    #    Play around with different number of outputs\n",
    "    # Function Definition from Above:\n",
    "    #   fully_conn(x_tensor, num_outputs)\n",
    "    fc1 = fully_conn(flat_layer, 120)\n",
    "    fc1 = tf.nn.dropout(fc1, keep_prob)\n",
    "    \n",
    "    fc2 = fully_conn(fc1, 84)\n",
    "    fc2 = tf.nn.dropout(fc2, keep_prob)\n",
    "    \n",
    "    # TODO: Apply an Output Layer\n",
    "    #    Set this to the number of classes\n",
    "    # Function Definition from Above:\n",
    "    #   output(x_tensor, num_outputs)\n",
    "    output_layer = output(fc2, 10)\n",
    "    \n",
    "    \n",
    "    return output_layer\n",
    "\n",
    "\n",
    "\"\"\"\n",
    "DON'T MODIFY ANYTHING IN THIS CELL THAT IS BELOW THIS LINE\n",
    "\"\"\"\n",
    "\n",
    "##############################\n",
    "## Build the Neural Network ##\n",
    "##############################\n",
    "\n",
    "# Remove previous weights, bias, inputs, etc..\n",
    "tf.reset_default_graph()\n",
    "\n",
    "# Inputs\n",
    "x = neural_net_image_input((32, 32, 3))\n",
    "y = neural_net_label_input(10)\n",
    "keep_prob = neural_net_keep_prob_input()\n",
    "\n",
    "# Model\n",
    "logits = conv_net(x, keep_prob)\n",
    "\n",
    "# Name logits Tensor, so that is can be loaded from disk after training\n",
    "logits = tf.identity(logits, name='logits')\n",
    "\n",
    "# Loss and Optimizer\n",
    "cost = tf.reduce_mean(tf.nn.softmax_cross_entropy_with_logits(logits=logits, labels=y))\n",
    "optimizer = tf.train.AdamOptimizer().minimize(cost)\n",
    "\n",
    "# Accuracy\n",
    "correct_pred = tf.equal(tf.argmax(logits, 1), tf.argmax(y, 1))\n",
    "accuracy = tf.reduce_mean(tf.cast(correct_pred, tf.float32), name='accuracy')\n",
    "\n",
    "tests.test_conv_net(conv_net)"
   ]
  },
  {
   "cell_type": "markdown",
   "metadata": {
    "deletable": true,
    "editable": true
   },
   "source": [
    "## Train the Neural Network\n",
    "### Single Optimization\n",
    "Implement the function `train_neural_network` to do a single optimization.  The optimization should use `optimizer` to optimize in `session` with a `feed_dict` of the following:\n",
    "* `x` for image input\n",
    "* `y` for labels\n",
    "* `keep_prob` for keep probability for dropout\n",
    "\n",
    "This function will be called for each batch, so `tf.global_variables_initializer()` has already been called.\n",
    "\n",
    "Note: Nothing needs to be returned. This function is only optimizing the neural network."
   ]
  },
  {
   "cell_type": "code",
   "execution_count": 8,
   "metadata": {
    "collapsed": false,
    "deletable": true,
    "editable": true
   },
   "outputs": [
    {
     "name": "stdout",
     "output_type": "stream",
     "text": [
      "Tests Passed\n"
     ]
    }
   ],
   "source": [
    "def train_neural_network(session, optimizer, keep_probability, feature_batch, label_batch):\n",
    "    \"\"\"\n",
    "    Optimize the session on a batch of images and labels\n",
    "    : session: Current TensorFlow session\n",
    "    : optimizer: TensorFlow optimizer function\n",
    "    : keep_probability: keep probability\n",
    "    : feature_batch: Batch of Numpy image data\n",
    "    : label_batch: Batch of Numpy label data\n",
    "    \"\"\"\n",
    "    session.run(optimizer, feed_dict={\n",
    "                x: feature_batch,\n",
    "                y: label_batch,\n",
    "                keep_prob: keep_probability})\n",
    "\"\"\"\n",
    "DON'T MODIFY ANYTHING IN THIS CELL THAT IS BELOW THIS LINE\n",
    "\"\"\"\n",
    "tests.test_train_nn(train_neural_network)"
   ]
  },
  {
   "cell_type": "markdown",
   "metadata": {
    "deletable": true,
    "editable": true
   },
   "source": [
    "### Show Stats\n",
    "Implement the function `print_stats` to print loss and validation accuracy.  Use the global variables `valid_features` and `valid_labels` to calculate validation accuracy.  Use a keep probability of `1.0` to calculate the loss and validation accuracy."
   ]
  },
  {
   "cell_type": "code",
   "execution_count": 9,
   "metadata": {
    "collapsed": false,
    "deletable": true,
    "editable": true
   },
   "outputs": [],
   "source": [
    "def print_stats(session, feature_batch, label_batch, cost, accuracy):\n",
    "    \"\"\"\n",
    "    Print information about loss and validation accuracy\n",
    "    : session: Current TensorFlow session\n",
    "    : feature_batch: Batch of Numpy image data\n",
    "    : label_batch: Batch of Numpy label data\n",
    "    : cost: TensorFlow cost function\n",
    "    : accuracy: TensorFlow accuracy function\n",
    "    \"\"\"\n",
    "    loss = session.run(cost, feed_dict={\n",
    "                x: feature_batch,\n",
    "                y: label_batch,\n",
    "                keep_prob: 1.})\n",
    "    \n",
    "    valid_acc = session.run(accuracy, feed_dict={\n",
    "                x: valid_features,\n",
    "                y: valid_labels,\n",
    "                keep_prob: 1.})\n",
    "    print('Loss: {:>10.4f} Validation Accuracy: {:.6f}'.format(loss, valid_acc))"
   ]
  },
  {
   "cell_type": "markdown",
   "metadata": {
    "deletable": true,
    "editable": true
   },
   "source": [
    "### Hyperparameters\n",
    "Tune the following parameters:\n",
    "* Set `epochs` to the number of iterations until the network stops learning or start overfitting\n",
    "* Set `batch_size` to the highest number that your machine has memory for.  Most people set them to common sizes of memory:\n",
    " * 64\n",
    " * 128\n",
    " * 256\n",
    " * ...\n",
    "* Set `keep_probability` to the probability of keeping a node using dropout"
   ]
  },
  {
   "cell_type": "code",
   "execution_count": 10,
   "metadata": {
    "collapsed": true,
    "deletable": true,
    "editable": true
   },
   "outputs": [],
   "source": [
    "# TODO: Tune Parameters\n",
    "epochs = 50\n",
    "batch_size = 512\n",
    "keep_probability = 0.9"
   ]
  },
  {
   "cell_type": "markdown",
   "metadata": {
    "deletable": true,
    "editable": true
   },
   "source": [
    "### Train on a Single CIFAR-10 Batch\n",
    "Instead of training the neural network on all the CIFAR-10 batches of data, let's use a single batch. This should save time while you iterate on the model to get a better accuracy.  Once the final validation accuracy is 50% or greater, run the model on all the data in the next section."
   ]
  },
  {
   "cell_type": "code",
   "execution_count": 11,
   "metadata": {
    "collapsed": false,
    "deletable": true,
    "editable": true
   },
   "outputs": [
    {
     "name": "stdout",
     "output_type": "stream",
     "text": [
      "Checking the Training on a Single Batch...\n",
      "Epoch  1, CIFAR-10 Batch 1:  Loss:     2.2782 Validation Accuracy: 0.157200\n",
      "Epoch  2, CIFAR-10 Batch 1:  Loss:     2.1588 Validation Accuracy: 0.216000\n",
      "Epoch  3, CIFAR-10 Batch 1:  Loss:     2.0477 Validation Accuracy: 0.268400\n",
      "Epoch  4, CIFAR-10 Batch 1:  Loss:     1.9582 Validation Accuracy: 0.308000\n",
      "Epoch  5, CIFAR-10 Batch 1:  Loss:     1.8773 Validation Accuracy: 0.345800\n",
      "Epoch  6, CIFAR-10 Batch 1:  Loss:     1.7952 Validation Accuracy: 0.372400\n",
      "Epoch  7, CIFAR-10 Batch 1:  Loss:     1.7236 Validation Accuracy: 0.391600\n",
      "Epoch  8, CIFAR-10 Batch 1:  Loss:     1.6534 Validation Accuracy: 0.412000\n",
      "Epoch  9, CIFAR-10 Batch 1:  Loss:     1.6203 Validation Accuracy: 0.416200\n",
      "Epoch 10, CIFAR-10 Batch 1:  Loss:     1.5873 Validation Accuracy: 0.422600\n",
      "Epoch 11, CIFAR-10 Batch 1:  Loss:     1.5338 Validation Accuracy: 0.436600\n",
      "Epoch 12, CIFAR-10 Batch 1:  Loss:     1.4824 Validation Accuracy: 0.443000\n",
      "Epoch 13, CIFAR-10 Batch 1:  Loss:     1.4516 Validation Accuracy: 0.454200\n",
      "Epoch 14, CIFAR-10 Batch 1:  Loss:     1.4359 Validation Accuracy: 0.449200\n",
      "Epoch 15, CIFAR-10 Batch 1:  Loss:     1.3918 Validation Accuracy: 0.460400\n",
      "Epoch 16, CIFAR-10 Batch 1:  Loss:     1.3865 Validation Accuracy: 0.452800\n",
      "Epoch 17, CIFAR-10 Batch 1:  Loss:     1.3559 Validation Accuracy: 0.457000\n",
      "Epoch 18, CIFAR-10 Batch 1:  Loss:     1.3305 Validation Accuracy: 0.461800\n",
      "Epoch 19, CIFAR-10 Batch 1:  Loss:     1.2942 Validation Accuracy: 0.467000\n",
      "Epoch 20, CIFAR-10 Batch 1:  Loss:     1.2577 Validation Accuracy: 0.479000\n",
      "Epoch 21, CIFAR-10 Batch 1:  Loss:     1.2296 Validation Accuracy: 0.487200\n",
      "Epoch 22, CIFAR-10 Batch 1:  Loss:     1.2067 Validation Accuracy: 0.490200\n",
      "Epoch 23, CIFAR-10 Batch 1:  Loss:     1.1914 Validation Accuracy: 0.482000\n",
      "Epoch 24, CIFAR-10 Batch 1:  Loss:     1.1609 Validation Accuracy: 0.486800\n",
      "Epoch 25, CIFAR-10 Batch 1:  Loss:     1.1315 Validation Accuracy: 0.494000\n",
      "Epoch 26, CIFAR-10 Batch 1:  Loss:     1.0997 Validation Accuracy: 0.494400\n",
      "Epoch 27, CIFAR-10 Batch 1:  Loss:     1.0858 Validation Accuracy: 0.500600\n",
      "Epoch 28, CIFAR-10 Batch 1:  Loss:     1.0668 Validation Accuracy: 0.506600\n",
      "Epoch 29, CIFAR-10 Batch 1:  Loss:     1.0349 Validation Accuracy: 0.507600\n",
      "Epoch 30, CIFAR-10 Batch 1:  Loss:     1.0276 Validation Accuracy: 0.507000\n",
      "Epoch 31, CIFAR-10 Batch 1:  Loss:     1.0012 Validation Accuracy: 0.509800\n",
      "Epoch 32, CIFAR-10 Batch 1:  Loss:     0.9959 Validation Accuracy: 0.512200\n",
      "Epoch 33, CIFAR-10 Batch 1:  Loss:     0.9668 Validation Accuracy: 0.511600\n",
      "Epoch 34, CIFAR-10 Batch 1:  Loss:     0.9716 Validation Accuracy: 0.507800\n",
      "Epoch 35, CIFAR-10 Batch 1:  Loss:     0.9238 Validation Accuracy: 0.515600\n",
      "Epoch 36, CIFAR-10 Batch 1:  Loss:     0.9185 Validation Accuracy: 0.515000\n",
      "Epoch 37, CIFAR-10 Batch 1:  Loss:     0.9073 Validation Accuracy: 0.511600\n",
      "Epoch 38, CIFAR-10 Batch 1:  Loss:     0.8974 Validation Accuracy: 0.508800\n",
      "Epoch 39, CIFAR-10 Batch 1:  Loss:     0.8748 Validation Accuracy: 0.514400\n",
      "Epoch 40, CIFAR-10 Batch 1:  Loss:     0.8368 Validation Accuracy: 0.516200\n",
      "Epoch 41, CIFAR-10 Batch 1:  Loss:     0.8186 Validation Accuracy: 0.522400\n",
      "Epoch 42, CIFAR-10 Batch 1:  Loss:     0.8079 Validation Accuracy: 0.523200\n",
      "Epoch 43, CIFAR-10 Batch 1:  Loss:     0.7762 Validation Accuracy: 0.523400\n",
      "Epoch 44, CIFAR-10 Batch 1:  Loss:     0.7739 Validation Accuracy: 0.522600\n",
      "Epoch 45, CIFAR-10 Batch 1:  Loss:     0.7480 Validation Accuracy: 0.522000\n",
      "Epoch 46, CIFAR-10 Batch 1:  Loss:     0.7418 Validation Accuracy: 0.522400\n",
      "Epoch 47, CIFAR-10 Batch 1:  Loss:     0.7164 Validation Accuracy: 0.521400\n",
      "Epoch 48, CIFAR-10 Batch 1:  Loss:     0.7059 Validation Accuracy: 0.521000\n",
      "Epoch 49, CIFAR-10 Batch 1:  Loss:     0.6812 Validation Accuracy: 0.519400\n",
      "Epoch 50, CIFAR-10 Batch 1:  Loss:     0.6502 Validation Accuracy: 0.526800\n"
     ]
    }
   ],
   "source": [
    "\"\"\"\n",
    "DON'T MODIFY ANYTHING IN THIS CELL\n",
    "\"\"\"\n",
    "print('Checking the Training on a Single Batch...')\n",
    "with tf.Session() as sess:\n",
    "    # Initializing the variables\n",
    "    sess.run(tf.global_variables_initializer())\n",
    "    \n",
    "    # Training cycle\n",
    "    for epoch in range(epochs):\n",
    "        batch_i = 1\n",
    "        for batch_features, batch_labels in helper.load_preprocess_training_batch(batch_i, batch_size):\n",
    "            train_neural_network(sess, optimizer, keep_probability, batch_features, batch_labels)\n",
    "        print('Epoch {:>2}, CIFAR-10 Batch {}:  '.format(epoch + 1, batch_i), end='')\n",
    "        print_stats(sess, batch_features, batch_labels, cost, accuracy)"
   ]
  },
  {
   "cell_type": "markdown",
   "metadata": {
    "deletable": true,
    "editable": true
   },
   "source": [
    "### Fully Train the Model\n",
    "Now that you got a good accuracy with a single CIFAR-10 batch, try it with all five batches."
   ]
  },
  {
   "cell_type": "code",
   "execution_count": 12,
   "metadata": {
    "collapsed": false,
    "deletable": true,
    "editable": true
   },
   "outputs": [
    {
     "name": "stdout",
     "output_type": "stream",
     "text": [
      "Training...\n",
      "Epoch  1, CIFAR-10 Batch 1:  Loss:     2.2759 Validation Accuracy: 0.176800\n",
      "Epoch  1, CIFAR-10 Batch 2:  Loss:     2.1043 Validation Accuracy: 0.233200\n",
      "Epoch  1, CIFAR-10 Batch 3:  Loss:     1.9609 Validation Accuracy: 0.284800\n",
      "Epoch  1, CIFAR-10 Batch 4:  Loss:     1.8733 Validation Accuracy: 0.316000\n",
      "Epoch  1, CIFAR-10 Batch 5:  Loss:     1.8101 Validation Accuracy: 0.355600\n",
      "Epoch  2, CIFAR-10 Batch 1:  Loss:     1.7971 Validation Accuracy: 0.372200\n",
      "Epoch  2, CIFAR-10 Batch 2:  Loss:     1.6477 Validation Accuracy: 0.406400\n",
      "Epoch  2, CIFAR-10 Batch 3:  Loss:     1.5467 Validation Accuracy: 0.400600\n",
      "Epoch  2, CIFAR-10 Batch 4:  Loss:     1.5730 Validation Accuracy: 0.412200\n",
      "Epoch  2, CIFAR-10 Batch 5:  Loss:     1.5646 Validation Accuracy: 0.433800\n",
      "Epoch  3, CIFAR-10 Batch 1:  Loss:     1.6526 Validation Accuracy: 0.433000\n",
      "Epoch  3, CIFAR-10 Batch 2:  Loss:     1.5310 Validation Accuracy: 0.441000\n",
      "Epoch  3, CIFAR-10 Batch 3:  Loss:     1.4154 Validation Accuracy: 0.444400\n",
      "Epoch  3, CIFAR-10 Batch 4:  Loss:     1.4503 Validation Accuracy: 0.446200\n",
      "Epoch  3, CIFAR-10 Batch 5:  Loss:     1.4654 Validation Accuracy: 0.458000\n",
      "Epoch  4, CIFAR-10 Batch 1:  Loss:     1.5632 Validation Accuracy: 0.454200\n",
      "Epoch  4, CIFAR-10 Batch 2:  Loss:     1.4850 Validation Accuracy: 0.452200\n",
      "Epoch  4, CIFAR-10 Batch 3:  Loss:     1.3345 Validation Accuracy: 0.471800\n",
      "Epoch  4, CIFAR-10 Batch 4:  Loss:     1.3702 Validation Accuracy: 0.467400\n",
      "Epoch  4, CIFAR-10 Batch 5:  Loss:     1.3945 Validation Accuracy: 0.475600\n",
      "Epoch  5, CIFAR-10 Batch 1:  Loss:     1.5102 Validation Accuracy: 0.476400\n",
      "Epoch  5, CIFAR-10 Batch 2:  Loss:     1.4245 Validation Accuracy: 0.488000\n",
      "Epoch  5, CIFAR-10 Batch 3:  Loss:     1.2799 Validation Accuracy: 0.478600\n",
      "Epoch  5, CIFAR-10 Batch 4:  Loss:     1.3179 Validation Accuracy: 0.481600\n",
      "Epoch  5, CIFAR-10 Batch 5:  Loss:     1.3422 Validation Accuracy: 0.489600\n",
      "Epoch  6, CIFAR-10 Batch 1:  Loss:     1.4578 Validation Accuracy: 0.492400\n",
      "Epoch  6, CIFAR-10 Batch 2:  Loss:     1.3693 Validation Accuracy: 0.501800\n",
      "Epoch  6, CIFAR-10 Batch 3:  Loss:     1.2357 Validation Accuracy: 0.490600\n",
      "Epoch  6, CIFAR-10 Batch 4:  Loss:     1.2761 Validation Accuracy: 0.492200\n",
      "Epoch  6, CIFAR-10 Batch 5:  Loss:     1.3034 Validation Accuracy: 0.499200\n",
      "Epoch  7, CIFAR-10 Batch 1:  Loss:     1.4313 Validation Accuracy: 0.500800\n",
      "Epoch  7, CIFAR-10 Batch 2:  Loss:     1.3287 Validation Accuracy: 0.511000\n",
      "Epoch  7, CIFAR-10 Batch 3:  Loss:     1.1962 Validation Accuracy: 0.510200\n",
      "Epoch  7, CIFAR-10 Batch 4:  Loss:     1.2211 Validation Accuracy: 0.507400\n",
      "Epoch  7, CIFAR-10 Batch 5:  Loss:     1.2644 Validation Accuracy: 0.509800\n",
      "Epoch  8, CIFAR-10 Batch 1:  Loss:     1.3836 Validation Accuracy: 0.512200\n",
      "Epoch  8, CIFAR-10 Batch 2:  Loss:     1.2963 Validation Accuracy: 0.523000\n",
      "Epoch  8, CIFAR-10 Batch 3:  Loss:     1.1552 Validation Accuracy: 0.518800\n",
      "Epoch  8, CIFAR-10 Batch 4:  Loss:     1.1785 Validation Accuracy: 0.513000\n",
      "Epoch  8, CIFAR-10 Batch 5:  Loss:     1.2212 Validation Accuracy: 0.524200\n",
      "Epoch  9, CIFAR-10 Batch 1:  Loss:     1.3616 Validation Accuracy: 0.525000\n",
      "Epoch  9, CIFAR-10 Batch 2:  Loss:     1.2545 Validation Accuracy: 0.530000\n",
      "Epoch  9, CIFAR-10 Batch 3:  Loss:     1.1263 Validation Accuracy: 0.512800\n",
      "Epoch  9, CIFAR-10 Batch 4:  Loss:     1.1578 Validation Accuracy: 0.518800\n",
      "Epoch  9, CIFAR-10 Batch 5:  Loss:     1.1928 Validation Accuracy: 0.531400\n",
      "Epoch 10, CIFAR-10 Batch 1:  Loss:     1.3327 Validation Accuracy: 0.529800\n",
      "Epoch 10, CIFAR-10 Batch 2:  Loss:     1.2381 Validation Accuracy: 0.535800\n",
      "Epoch 10, CIFAR-10 Batch 3:  Loss:     1.1048 Validation Accuracy: 0.525200\n",
      "Epoch 10, CIFAR-10 Batch 4:  Loss:     1.1340 Validation Accuracy: 0.524000\n",
      "Epoch 10, CIFAR-10 Batch 5:  Loss:     1.1672 Validation Accuracy: 0.540600\n",
      "Epoch 11, CIFAR-10 Batch 1:  Loss:     1.2995 Validation Accuracy: 0.538600\n",
      "Epoch 11, CIFAR-10 Batch 2:  Loss:     1.1996 Validation Accuracy: 0.545600\n",
      "Epoch 11, CIFAR-10 Batch 3:  Loss:     1.0725 Validation Accuracy: 0.534000\n",
      "Epoch 11, CIFAR-10 Batch 4:  Loss:     1.0974 Validation Accuracy: 0.534600\n",
      "Epoch 11, CIFAR-10 Batch 5:  Loss:     1.1375 Validation Accuracy: 0.544400\n",
      "Epoch 12, CIFAR-10 Batch 1:  Loss:     1.2594 Validation Accuracy: 0.542000\n",
      "Epoch 12, CIFAR-10 Batch 2:  Loss:     1.1730 Validation Accuracy: 0.549600\n",
      "Epoch 12, CIFAR-10 Batch 3:  Loss:     1.0514 Validation Accuracy: 0.537600\n",
      "Epoch 12, CIFAR-10 Batch 4:  Loss:     1.0628 Validation Accuracy: 0.541600\n",
      "Epoch 12, CIFAR-10 Batch 5:  Loss:     1.1046 Validation Accuracy: 0.550000\n",
      "Epoch 13, CIFAR-10 Batch 1:  Loss:     1.2289 Validation Accuracy: 0.549000\n",
      "Epoch 13, CIFAR-10 Batch 2:  Loss:     1.1466 Validation Accuracy: 0.555400\n",
      "Epoch 13, CIFAR-10 Batch 3:  Loss:     1.0366 Validation Accuracy: 0.544000\n",
      "Epoch 13, CIFAR-10 Batch 4:  Loss:     1.0484 Validation Accuracy: 0.550000\n",
      "Epoch 13, CIFAR-10 Batch 5:  Loss:     1.0857 Validation Accuracy: 0.557000\n",
      "Epoch 14, CIFAR-10 Batch 1:  Loss:     1.2058 Validation Accuracy: 0.545200\n",
      "Epoch 14, CIFAR-10 Batch 2:  Loss:     1.1321 Validation Accuracy: 0.558800\n",
      "Epoch 14, CIFAR-10 Batch 3:  Loss:     1.0120 Validation Accuracy: 0.546800\n",
      "Epoch 14, CIFAR-10 Batch 4:  Loss:     1.0120 Validation Accuracy: 0.562000\n",
      "Epoch 14, CIFAR-10 Batch 5:  Loss:     1.0503 Validation Accuracy: 0.560800\n",
      "Epoch 15, CIFAR-10 Batch 1:  Loss:     1.1759 Validation Accuracy: 0.559200\n",
      "Epoch 15, CIFAR-10 Batch 2:  Loss:     1.0999 Validation Accuracy: 0.567400\n",
      "Epoch 15, CIFAR-10 Batch 3:  Loss:     0.9906 Validation Accuracy: 0.553800\n",
      "Epoch 15, CIFAR-10 Batch 4:  Loss:     0.9878 Validation Accuracy: 0.564000\n",
      "Epoch 15, CIFAR-10 Batch 5:  Loss:     1.0302 Validation Accuracy: 0.562200\n",
      "Epoch 16, CIFAR-10 Batch 1:  Loss:     1.1576 Validation Accuracy: 0.560000\n",
      "Epoch 16, CIFAR-10 Batch 2:  Loss:     1.0855 Validation Accuracy: 0.568000\n",
      "Epoch 16, CIFAR-10 Batch 3:  Loss:     0.9823 Validation Accuracy: 0.549400\n",
      "Epoch 16, CIFAR-10 Batch 4:  Loss:     0.9696 Validation Accuracy: 0.570200\n",
      "Epoch 16, CIFAR-10 Batch 5:  Loss:     1.0178 Validation Accuracy: 0.564600\n",
      "Epoch 17, CIFAR-10 Batch 1:  Loss:     1.1221 Validation Accuracy: 0.564800\n",
      "Epoch 17, CIFAR-10 Batch 2:  Loss:     1.0716 Validation Accuracy: 0.573600\n",
      "Epoch 17, CIFAR-10 Batch 3:  Loss:     0.9763 Validation Accuracy: 0.551200\n",
      "Epoch 17, CIFAR-10 Batch 4:  Loss:     0.9512 Validation Accuracy: 0.580400\n",
      "Epoch 17, CIFAR-10 Batch 5:  Loss:     0.9966 Validation Accuracy: 0.574000\n",
      "Epoch 18, CIFAR-10 Batch 1:  Loss:     1.1165 Validation Accuracy: 0.566000\n",
      "Epoch 18, CIFAR-10 Batch 2:  Loss:     1.0522 Validation Accuracy: 0.575000\n",
      "Epoch 18, CIFAR-10 Batch 3:  Loss:     0.9617 Validation Accuracy: 0.553200\n",
      "Epoch 18, CIFAR-10 Batch 4:  Loss:     0.9362 Validation Accuracy: 0.573800\n",
      "Epoch 18, CIFAR-10 Batch 5:  Loss:     0.9846 Validation Accuracy: 0.574600\n",
      "Epoch 19, CIFAR-10 Batch 1:  Loss:     1.0923 Validation Accuracy: 0.568400\n",
      "Epoch 19, CIFAR-10 Batch 2:  Loss:     1.0227 Validation Accuracy: 0.574000\n",
      "Epoch 19, CIFAR-10 Batch 3:  Loss:     0.9471 Validation Accuracy: 0.562000\n",
      "Epoch 19, CIFAR-10 Batch 4:  Loss:     0.9181 Validation Accuracy: 0.577000\n",
      "Epoch 19, CIFAR-10 Batch 5:  Loss:     0.9549 Validation Accuracy: 0.580600\n",
      "Epoch 20, CIFAR-10 Batch 1:  Loss:     1.0673 Validation Accuracy: 0.570200\n",
      "Epoch 20, CIFAR-10 Batch 2:  Loss:     1.0212 Validation Accuracy: 0.571200\n",
      "Epoch 20, CIFAR-10 Batch 3:  Loss:     0.9189 Validation Accuracy: 0.567000\n",
      "Epoch 20, CIFAR-10 Batch 4:  Loss:     0.9041 Validation Accuracy: 0.582000\n",
      "Epoch 20, CIFAR-10 Batch 5:  Loss:     0.9304 Validation Accuracy: 0.588600\n",
      "Epoch 21, CIFAR-10 Batch 1:  Loss:     1.0472 Validation Accuracy: 0.572000\n",
      "Epoch 21, CIFAR-10 Batch 2:  Loss:     0.9974 Validation Accuracy: 0.583200\n",
      "Epoch 21, CIFAR-10 Batch 3:  Loss:     0.9061 Validation Accuracy: 0.573800\n",
      "Epoch 21, CIFAR-10 Batch 4:  Loss:     0.8856 Validation Accuracy: 0.588200\n",
      "Epoch 21, CIFAR-10 Batch 5:  Loss:     0.9284 Validation Accuracy: 0.586000\n",
      "Epoch 22, CIFAR-10 Batch 1:  Loss:     1.0310 Validation Accuracy: 0.576600\n",
      "Epoch 22, CIFAR-10 Batch 2:  Loss:     0.9848 Validation Accuracy: 0.577000\n",
      "Epoch 22, CIFAR-10 Batch 3:  Loss:     0.8957 Validation Accuracy: 0.574800\n",
      "Epoch 22, CIFAR-10 Batch 4:  Loss:     0.8724 Validation Accuracy: 0.588200\n",
      "Epoch 22, CIFAR-10 Batch 5:  Loss:     0.9176 Validation Accuracy: 0.592800\n",
      "Epoch 23, CIFAR-10 Batch 1:  Loss:     1.0206 Validation Accuracy: 0.577600\n",
      "Epoch 23, CIFAR-10 Batch 2:  Loss:     0.9758 Validation Accuracy: 0.582600\n",
      "Epoch 23, CIFAR-10 Batch 3:  Loss:     0.8935 Validation Accuracy: 0.576400\n",
      "Epoch 23, CIFAR-10 Batch 4:  Loss:     0.8542 Validation Accuracy: 0.589600\n",
      "Epoch 23, CIFAR-10 Batch 5:  Loss:     0.9035 Validation Accuracy: 0.591400\n",
      "Epoch 24, CIFAR-10 Batch 1:  Loss:     1.0351 Validation Accuracy: 0.571000\n",
      "Epoch 24, CIFAR-10 Batch 2:  Loss:     1.0150 Validation Accuracy: 0.578600\n",
      "Epoch 24, CIFAR-10 Batch 3:  Loss:     0.8614 Validation Accuracy: 0.589200\n",
      "Epoch 24, CIFAR-10 Batch 4:  Loss:     0.8420 Validation Accuracy: 0.588200\n",
      "Epoch 24, CIFAR-10 Batch 5:  Loss:     0.8830 Validation Accuracy: 0.597200\n",
      "Epoch 25, CIFAR-10 Batch 1:  Loss:     1.0154 Validation Accuracy: 0.574400\n",
      "Epoch 25, CIFAR-10 Batch 2:  Loss:     1.0071 Validation Accuracy: 0.574400\n",
      "Epoch 25, CIFAR-10 Batch 3:  Loss:     0.8473 Validation Accuracy: 0.592600\n",
      "Epoch 25, CIFAR-10 Batch 4:  Loss:     0.8325 Validation Accuracy: 0.586000\n",
      "Epoch 25, CIFAR-10 Batch 5:  Loss:     0.8990 Validation Accuracy: 0.597800\n",
      "Epoch 26, CIFAR-10 Batch 1:  Loss:     0.9912 Validation Accuracy: 0.580600\n",
      "Epoch 26, CIFAR-10 Batch 2:  Loss:     0.9852 Validation Accuracy: 0.581400\n",
      "Epoch 26, CIFAR-10 Batch 3:  Loss:     0.8470 Validation Accuracy: 0.592200\n",
      "Epoch 26, CIFAR-10 Batch 4:  Loss:     0.8152 Validation Accuracy: 0.595000\n",
      "Epoch 26, CIFAR-10 Batch 5:  Loss:     0.8835 Validation Accuracy: 0.595000\n",
      "Epoch 27, CIFAR-10 Batch 1:  Loss:     0.9977 Validation Accuracy: 0.577200\n",
      "Epoch 27, CIFAR-10 Batch 2:  Loss:     0.9505 Validation Accuracy: 0.582400\n",
      "Epoch 27, CIFAR-10 Batch 3:  Loss:     0.8291 Validation Accuracy: 0.593400\n",
      "Epoch 27, CIFAR-10 Batch 4:  Loss:     0.8106 Validation Accuracy: 0.596800\n",
      "Epoch 27, CIFAR-10 Batch 5:  Loss:     0.8366 Validation Accuracy: 0.597200\n",
      "Epoch 28, CIFAR-10 Batch 1:  Loss:     0.9695 Validation Accuracy: 0.586000\n",
      "Epoch 28, CIFAR-10 Batch 2:  Loss:     0.9400 Validation Accuracy: 0.586000\n",
      "Epoch 28, CIFAR-10 Batch 3:  Loss:     0.8152 Validation Accuracy: 0.589600\n",
      "Epoch 28, CIFAR-10 Batch 4:  Loss:     0.7852 Validation Accuracy: 0.598200\n",
      "Epoch 28, CIFAR-10 Batch 5:  Loss:     0.8300 Validation Accuracy: 0.602200\n",
      "Epoch 29, CIFAR-10 Batch 1:  Loss:     0.9569 Validation Accuracy: 0.592600\n",
      "Epoch 29, CIFAR-10 Batch 2:  Loss:     0.9180 Validation Accuracy: 0.591400\n",
      "Epoch 29, CIFAR-10 Batch 3:  Loss:     0.8073 Validation Accuracy: 0.587000\n",
      "Epoch 29, CIFAR-10 Batch 4:  Loss:     0.7983 Validation Accuracy: 0.594600\n",
      "Epoch 29, CIFAR-10 Batch 5:  Loss:     0.8162 Validation Accuracy: 0.601800\n",
      "Epoch 30, CIFAR-10 Batch 1:  Loss:     0.9404 Validation Accuracy: 0.594000\n",
      "Epoch 30, CIFAR-10 Batch 2:  Loss:     0.9274 Validation Accuracy: 0.581800\n",
      "Epoch 30, CIFAR-10 Batch 3:  Loss:     0.7795 Validation Accuracy: 0.598600\n",
      "Epoch 30, CIFAR-10 Batch 4:  Loss:     0.7835 Validation Accuracy: 0.592000\n",
      "Epoch 30, CIFAR-10 Batch 5:  Loss:     0.7933 Validation Accuracy: 0.605400\n",
      "Epoch 31, CIFAR-10 Batch 1:  Loss:     0.9138 Validation Accuracy: 0.594000\n",
      "Epoch 31, CIFAR-10 Batch 2:  Loss:     0.8880 Validation Accuracy: 0.593000\n",
      "Epoch 31, CIFAR-10 Batch 3:  Loss:     0.7670 Validation Accuracy: 0.601800\n",
      "Epoch 31, CIFAR-10 Batch 4:  Loss:     0.7467 Validation Accuracy: 0.599200\n",
      "Epoch 31, CIFAR-10 Batch 5:  Loss:     0.7796 Validation Accuracy: 0.606400\n",
      "Epoch 32, CIFAR-10 Batch 1:  Loss:     0.9023 Validation Accuracy: 0.599200\n",
      "Epoch 32, CIFAR-10 Batch 2:  Loss:     0.8708 Validation Accuracy: 0.599000\n",
      "Epoch 32, CIFAR-10 Batch 3:  Loss:     0.7589 Validation Accuracy: 0.603000\n",
      "Epoch 32, CIFAR-10 Batch 4:  Loss:     0.7566 Validation Accuracy: 0.602400\n",
      "Epoch 32, CIFAR-10 Batch 5:  Loss:     0.7710 Validation Accuracy: 0.604600\n",
      "Epoch 33, CIFAR-10 Batch 1:  Loss:     0.8824 Validation Accuracy: 0.600400\n",
      "Epoch 33, CIFAR-10 Batch 2:  Loss:     0.8790 Validation Accuracy: 0.595600\n",
      "Epoch 33, CIFAR-10 Batch 3:  Loss:     0.7365 Validation Accuracy: 0.601200\n",
      "Epoch 33, CIFAR-10 Batch 4:  Loss:     0.7401 Validation Accuracy: 0.600600\n",
      "Epoch 33, CIFAR-10 Batch 5:  Loss:     0.7658 Validation Accuracy: 0.606200\n",
      "Epoch 34, CIFAR-10 Batch 1:  Loss:     0.8774 Validation Accuracy: 0.604800\n",
      "Epoch 34, CIFAR-10 Batch 2:  Loss:     0.8660 Validation Accuracy: 0.597400\n",
      "Epoch 34, CIFAR-10 Batch 3:  Loss:     0.7305 Validation Accuracy: 0.602200\n",
      "Epoch 34, CIFAR-10 Batch 4:  Loss:     0.7344 Validation Accuracy: 0.600800\n",
      "Epoch 34, CIFAR-10 Batch 5:  Loss:     0.7598 Validation Accuracy: 0.604000\n",
      "Epoch 35, CIFAR-10 Batch 1:  Loss:     0.8617 Validation Accuracy: 0.605400\n",
      "Epoch 35, CIFAR-10 Batch 2:  Loss:     0.8623 Validation Accuracy: 0.598200\n",
      "Epoch 35, CIFAR-10 Batch 3:  Loss:     0.7183 Validation Accuracy: 0.603000\n",
      "Epoch 35, CIFAR-10 Batch 4:  Loss:     0.7301 Validation Accuracy: 0.605000\n",
      "Epoch 35, CIFAR-10 Batch 5:  Loss:     0.7509 Validation Accuracy: 0.611000\n",
      "Epoch 36, CIFAR-10 Batch 1:  Loss:     0.8394 Validation Accuracy: 0.608800\n",
      "Epoch 36, CIFAR-10 Batch 2:  Loss:     0.8573 Validation Accuracy: 0.595600\n",
      "Epoch 36, CIFAR-10 Batch 3:  Loss:     0.6992 Validation Accuracy: 0.612000\n",
      "Epoch 36, CIFAR-10 Batch 4:  Loss:     0.7141 Validation Accuracy: 0.599600\n",
      "Epoch 36, CIFAR-10 Batch 5:  Loss:     0.7308 Validation Accuracy: 0.613800\n",
      "Epoch 37, CIFAR-10 Batch 1:  Loss:     0.8333 Validation Accuracy: 0.609600\n",
      "Epoch 37, CIFAR-10 Batch 2:  Loss:     0.8324 Validation Accuracy: 0.599200\n",
      "Epoch 37, CIFAR-10 Batch 3:  Loss:     0.6996 Validation Accuracy: 0.609800\n",
      "Epoch 37, CIFAR-10 Batch 4:  Loss:     0.7031 Validation Accuracy: 0.605000\n",
      "Epoch 37, CIFAR-10 Batch 5:  Loss:     0.7132 Validation Accuracy: 0.612200\n",
      "Epoch 38, CIFAR-10 Batch 1:  Loss:     0.8452 Validation Accuracy: 0.605400\n",
      "Epoch 38, CIFAR-10 Batch 2:  Loss:     0.8217 Validation Accuracy: 0.604400\n",
      "Epoch 38, CIFAR-10 Batch 3:  Loss:     0.6872 Validation Accuracy: 0.608600\n",
      "Epoch 38, CIFAR-10 Batch 4:  Loss:     0.6885 Validation Accuracy: 0.610000\n",
      "Epoch 38, CIFAR-10 Batch 5:  Loss:     0.7210 Validation Accuracy: 0.610600\n",
      "Epoch 39, CIFAR-10 Batch 1:  Loss:     0.8282 Validation Accuracy: 0.605200\n",
      "Epoch 39, CIFAR-10 Batch 2:  Loss:     0.8099 Validation Accuracy: 0.601400\n",
      "Epoch 39, CIFAR-10 Batch 3:  Loss:     0.6733 Validation Accuracy: 0.611600\n",
      "Epoch 39, CIFAR-10 Batch 4:  Loss:     0.6825 Validation Accuracy: 0.607000\n",
      "Epoch 39, CIFAR-10 Batch 5:  Loss:     0.6949 Validation Accuracy: 0.620400\n",
      "Epoch 40, CIFAR-10 Batch 1:  Loss:     0.8328 Validation Accuracy: 0.609400\n",
      "Epoch 40, CIFAR-10 Batch 2:  Loss:     0.8078 Validation Accuracy: 0.608800\n",
      "Epoch 40, CIFAR-10 Batch 3:  Loss:     0.6591 Validation Accuracy: 0.610400\n",
      "Epoch 40, CIFAR-10 Batch 4:  Loss:     0.6758 Validation Accuracy: 0.608600\n",
      "Epoch 40, CIFAR-10 Batch 5:  Loss:     0.7163 Validation Accuracy: 0.619000\n",
      "Epoch 41, CIFAR-10 Batch 1:  Loss:     0.7859 Validation Accuracy: 0.616600\n",
      "Epoch 41, CIFAR-10 Batch 2:  Loss:     0.7897 Validation Accuracy: 0.609200\n",
      "Epoch 41, CIFAR-10 Batch 3:  Loss:     0.6617 Validation Accuracy: 0.610200\n",
      "Epoch 41, CIFAR-10 Batch 4:  Loss:     0.6726 Validation Accuracy: 0.608400\n",
      "Epoch 41, CIFAR-10 Batch 5:  Loss:     0.6901 Validation Accuracy: 0.619600\n",
      "Epoch 42, CIFAR-10 Batch 1:  Loss:     0.7884 Validation Accuracy: 0.617200\n",
      "Epoch 42, CIFAR-10 Batch 2:  Loss:     0.8026 Validation Accuracy: 0.606600\n",
      "Epoch 42, CIFAR-10 Batch 3:  Loss:     0.6455 Validation Accuracy: 0.615600\n",
      "Epoch 42, CIFAR-10 Batch 4:  Loss:     0.6500 Validation Accuracy: 0.611000\n",
      "Epoch 42, CIFAR-10 Batch 5:  Loss:     0.6737 Validation Accuracy: 0.616000\n",
      "Epoch 43, CIFAR-10 Batch 1:  Loss:     0.7571 Validation Accuracy: 0.622000\n",
      "Epoch 43, CIFAR-10 Batch 2:  Loss:     0.7725 Validation Accuracy: 0.607400\n",
      "Epoch 43, CIFAR-10 Batch 3:  Loss:     0.6304 Validation Accuracy: 0.616000\n",
      "Epoch 43, CIFAR-10 Batch 4:  Loss:     0.6597 Validation Accuracy: 0.609000\n",
      "Epoch 43, CIFAR-10 Batch 5:  Loss:     0.6713 Validation Accuracy: 0.617200\n",
      "Epoch 44, CIFAR-10 Batch 1:  Loss:     0.7522 Validation Accuracy: 0.620400\n",
      "Epoch 44, CIFAR-10 Batch 2:  Loss:     0.7647 Validation Accuracy: 0.615400\n",
      "Epoch 44, CIFAR-10 Batch 3:  Loss:     0.6270 Validation Accuracy: 0.614600\n",
      "Epoch 44, CIFAR-10 Batch 4:  Loss:     0.6372 Validation Accuracy: 0.608800\n",
      "Epoch 44, CIFAR-10 Batch 5:  Loss:     0.6597 Validation Accuracy: 0.621800\n",
      "Epoch 45, CIFAR-10 Batch 1:  Loss:     0.7583 Validation Accuracy: 0.616200\n",
      "Epoch 45, CIFAR-10 Batch 2:  Loss:     0.7542 Validation Accuracy: 0.609000\n",
      "Epoch 45, CIFAR-10 Batch 3:  Loss:     0.6359 Validation Accuracy: 0.616200\n",
      "Epoch 45, CIFAR-10 Batch 4:  Loss:     0.6366 Validation Accuracy: 0.610200\n",
      "Epoch 45, CIFAR-10 Batch 5:  Loss:     0.6585 Validation Accuracy: 0.617400\n",
      "Epoch 46, CIFAR-10 Batch 1:  Loss:     0.7389 Validation Accuracy: 0.623800\n",
      "Epoch 46, CIFAR-10 Batch 2:  Loss:     0.7842 Validation Accuracy: 0.597000\n",
      "Epoch 46, CIFAR-10 Batch 3:  Loss:     0.6282 Validation Accuracy: 0.624000\n",
      "Epoch 46, CIFAR-10 Batch 4:  Loss:     0.6389 Validation Accuracy: 0.610800\n",
      "Epoch 46, CIFAR-10 Batch 5:  Loss:     0.6612 Validation Accuracy: 0.610400\n",
      "Epoch 47, CIFAR-10 Batch 1:  Loss:     0.7251 Validation Accuracy: 0.619200\n",
      "Epoch 47, CIFAR-10 Batch 2:  Loss:     0.7827 Validation Accuracy: 0.597800\n",
      "Epoch 47, CIFAR-10 Batch 3:  Loss:     0.6456 Validation Accuracy: 0.611200\n",
      "Epoch 47, CIFAR-10 Batch 4:  Loss:     0.6204 Validation Accuracy: 0.619200\n",
      "Epoch 47, CIFAR-10 Batch 5:  Loss:     0.6495 Validation Accuracy: 0.617000\n",
      "Epoch 48, CIFAR-10 Batch 1:  Loss:     0.7214 Validation Accuracy: 0.619600\n",
      "Epoch 48, CIFAR-10 Batch 2:  Loss:     0.7869 Validation Accuracy: 0.598200\n",
      "Epoch 48, CIFAR-10 Batch 3:  Loss:     0.6287 Validation Accuracy: 0.619800\n",
      "Epoch 48, CIFAR-10 Batch 4:  Loss:     0.6153 Validation Accuracy: 0.614600\n",
      "Epoch 48, CIFAR-10 Batch 5:  Loss:     0.6415 Validation Accuracy: 0.620600\n",
      "Epoch 49, CIFAR-10 Batch 1:  Loss:     0.7210 Validation Accuracy: 0.618400\n",
      "Epoch 49, CIFAR-10 Batch 2:  Loss:     0.7864 Validation Accuracy: 0.591800\n",
      "Epoch 49, CIFAR-10 Batch 3:  Loss:     0.6297 Validation Accuracy: 0.619600\n",
      "Epoch 49, CIFAR-10 Batch 4:  Loss:     0.6041 Validation Accuracy: 0.620600\n",
      "Epoch 49, CIFAR-10 Batch 5:  Loss:     0.6433 Validation Accuracy: 0.613200\n",
      "Epoch 50, CIFAR-10 Batch 1:  Loss:     0.7318 Validation Accuracy: 0.614200\n",
      "Epoch 50, CIFAR-10 Batch 2:  Loss:     0.7358 Validation Accuracy: 0.614000\n",
      "Epoch 50, CIFAR-10 Batch 3:  Loss:     0.6534 Validation Accuracy: 0.609000\n",
      "Epoch 50, CIFAR-10 Batch 4:  Loss:     0.6116 Validation Accuracy: 0.614000\n",
      "Epoch 50, CIFAR-10 Batch 5:  Loss:     0.6699 Validation Accuracy: 0.603000\n"
     ]
    }
   ],
   "source": [
    "\"\"\"\n",
    "DON'T MODIFY ANYTHING IN THIS CELL\n",
    "\"\"\"\n",
    "save_model_path = './image_classification'\n",
    "\n",
    "print('Training...')\n",
    "with tf.Session() as sess:\n",
    "    # Initializing the variables\n",
    "    sess.run(tf.global_variables_initializer())\n",
    "    \n",
    "    # Training cycle\n",
    "    for epoch in range(epochs):\n",
    "        # Loop over all batches\n",
    "        n_batches = 5\n",
    "        for batch_i in range(1, n_batches + 1):\n",
    "            for batch_features, batch_labels in helper.load_preprocess_training_batch(batch_i, batch_size):\n",
    "                train_neural_network(sess, optimizer, keep_probability, batch_features, batch_labels)\n",
    "            print('Epoch {:>2}, CIFAR-10 Batch {}:  '.format(epoch + 1, batch_i), end='')\n",
    "            print_stats(sess, batch_features, batch_labels, cost, accuracy)\n",
    "            \n",
    "    # Save Model\n",
    "    saver = tf.train.Saver()\n",
    "    save_path = saver.save(sess, save_model_path)"
   ]
  },
  {
   "cell_type": "markdown",
   "metadata": {
    "deletable": true,
    "editable": true
   },
   "source": [
    "# Checkpoint\n",
    "The model has been saved to disk.\n",
    "## Test Model\n",
    "Test your model against the test dataset.  This will be your final accuracy. You should have an accuracy greater than 50%. If you don't, keep tweaking the model architecture and parameters."
   ]
  },
  {
   "cell_type": "code",
   "execution_count": 13,
   "metadata": {
    "collapsed": false,
    "deletable": true,
    "editable": true
   },
   "outputs": [
    {
     "name": "stdout",
     "output_type": "stream",
     "text": [
      "Testing Accuracy: 0.6041934728622437\n",
      "\n"
     ]
    },
    {
     "data": {
      "image/png": "[encoded data removed]",
      "text/plain": [
       "<matplotlib.figure.Figure at 0x11f8a5518>"
      ]
     },
     "metadata": {
      "image/png": {
       "height": 319,
       "width": 355
      }
     },
     "output_type": "display_data"
    }
   ],
   "source": [
    "\"\"\"\n",
    "DON'T MODIFY ANYTHING IN THIS CELL\n",
    "\"\"\"\n",
    "%matplotlib inline\n",
    "%config InlineBackend.figure_format = 'retina'\n",
    "\n",
    "import tensorflow as tf\n",
    "import pickle\n",
    "import helper\n",
    "import random\n",
    "\n",
    "# Set batch size if not already set\n",
    "try:\n",
    "    if batch_size:\n",
    "        pass\n",
    "except NameError:\n",
    "    batch_size = 64\n",
    "\n",
    "save_model_path = './image_classification'\n",
    "n_samples = 4\n",
    "top_n_predictions = 3\n",
    "\n",
    "def test_model():\n",
    "    \"\"\"\n",
    "    Test the saved model against the test dataset\n",
    "    \"\"\"\n",
    "\n",
    "    test_features, test_labels = pickle.load(open('preprocess_training.p', mode='rb'))\n",
    "    loaded_graph = tf.Graph()\n",
    "\n",
    "    with tf.Session(graph=loaded_graph) as sess:\n",
    "        # Load model\n",
    "        loader = tf.train.import_meta_graph(save_model_path + '.meta')\n",
    "        loader.restore(sess, save_model_path)\n",
    "\n",
    "        # Get Tensors from loaded model\n",
    "        loaded_x = loaded_graph.get_tensor_by_name('x:0')\n",
    "        loaded_y = loaded_graph.get_tensor_by_name('y:0')\n",
    "        loaded_keep_prob = loaded_graph.get_tensor_by_name('keep_prob:0')\n",
    "        loaded_logits = loaded_graph.get_tensor_by_name('logits:0')\n",
    "        loaded_acc = loaded_graph.get_tensor_by_name('accuracy:0')\n",
    "        \n",
    "        # Get accuracy in batches for memory limitations\n",
    "        test_batch_acc_total = 0\n",
    "        test_batch_count = 0\n",
    "        \n",
    "        for train_feature_batch, train_label_batch in helper.batch_features_labels(test_features, test_labels, batch_size):\n",
    "            test_batch_acc_total += sess.run(\n",
    "                loaded_acc,\n",
    "                feed_dict={loaded_x: train_feature_batch, loaded_y: train_label_batch, loaded_keep_prob: 1.0})\n",
    "            test_batch_count += 1\n",
    "\n",
    "        print('Testing Accuracy: {}\\n'.format(test_batch_acc_total/test_batch_count))\n",
    "\n",
    "        # Print Random Samples\n",
    "        random_test_features, random_test_labels = tuple(zip(*random.sample(list(zip(test_features, test_labels)), n_samples)))\n",
    "        random_test_predictions = sess.run(\n",
    "            tf.nn.top_k(tf.nn.softmax(loaded_logits), top_n_predictions),\n",
    "            feed_dict={loaded_x: random_test_features, loaded_y: random_test_labels, loaded_keep_prob: 1.0})\n",
    "        helper.display_image_predictions(random_test_features, random_test_labels, random_test_predictions)\n",
    "\n",
    "\n",
    "test_model()"
   ]
  },
  {
   "cell_type": "markdown",
   "metadata": {
    "deletable": true,
    "editable": true
   },
   "source": [
    "## Why 50-70% Accuracy?\n",
    "You might be wondering why you can't get an accuracy any higher. First things first, 50% isn't bad for a simple CNN.  Pure guessing would get you 10% accuracy. However, you might notice people are getting scores [well above 70%](http://rodrigob.github.io/are_we_there_yet/build/classification_datasets_results.html#43494641522d3130).  That's because we haven't taught you all there is to know about neural networks. We still need to cover a few more techniques.\n",
    "## Submitting This Project\n",
    "When submitting this project, make sure to run all the cells before saving the notebook.  Save the notebook file as \"dlnd_image_classification.ipynb\" and save it as a HTML file under \"File\" -> \"Download as\".  Include the \"helper.py\" and \"problem_unittests.py\" files in your submission."
   ]
  }
 ],
 "metadata": {
  "kernelspec": {
   "display_name": "Python 3",
   "language": "python",
   "name": "python3"
  },
  "language_info": {
   "codemirror_mode": {
    "name": "ipython",
    "version": 3
   },
   "file_extension": ".py",
   "mimetype": "text/x-python",
   "name": "python",
   "nbconvert_exporter": "python",
   "pygments_lexer": "ipython3",
   "version": "3.5.2"
  },
  "widgets": {
   "state": {},
   "version": "1.1.2"
  }
 },
 "nbformat": 4,
 "nbformat_minor": 0
}
