{
 "cells": [
  {
   "cell_type": "markdown",
   "metadata": {
    "collapsed": true,
    "deletable": true,
    "editable": true
   },
   "source": [
    "# Image Classification\n",
    "In this project, you'll classify images from the [CIFAR-10 dataset](https://www.cs.toronto.edu/~kriz/cifar.html).  The dataset consists of airplanes, dogs, cats, and other objects. You'll preprocess the images, then train a convolutional neural network on all the samples. The images need to be normalized and the labels need to be one-hot encoded.  You'll get to apply what you learned and build a convolutional, max pooling, dropout, and fully connected layers.  At the end, you'll get to see your neural network's predictions on the sample images.\n",
    "## Get the Data\n",
    "Run the following cell to download the [CIFAR-10 dataset for python](https://www.cs.toronto.edu/~kriz/cifar-10-python.tar.gz)."
   ]
  },
  {
   "cell_type": "code",
   "execution_count": 1,
   "metadata": {
    "collapsed": false,
    "deletable": true,
    "editable": true
   },
   "outputs": [
    {
     "name": "stderr",
     "output_type": "stream",
     "text": [
      "CIFAR-10 Dataset: 171MB [04:46, 669KB/s]                               \n"
     ]
    },
    {
     "name": "stdout",
     "output_type": "stream",
     "text": [
      "All files found!\n"
     ]
    }
   ],
   "source": [
    "\"\"\"\n",
    "DON'T MODIFY ANYTHING IN THIS CELL THAT IS BELOW THIS LINE\n",
    "\"\"\"\n",
    "from urllib.request import urlretrieve\n",
    "from os.path import isfile, isdir\n",
    "from tqdm import tqdm\n",
    "import problem_unittests as tests\n",
    "import tarfile\n",
    "\n",
    "cifar10_dataset_folder_path = 'cifar-10-batches-py'\n",
    "\n",
    "class DLProgress(tqdm):\n",
    "    last_block = 0\n",
    "\n",
    "    def hook(self, block_num=1, block_size=1, total_size=None):\n",
    "        self.total = total_size\n",
    "        self.update((block_num - self.last_block) * block_size)\n",
    "        self.last_block = block_num\n",
    "\n",
    "if not isfile('cifar-10-python.tar.gz'):\n",
    "    with DLProgress(unit='B', unit_scale=True, miniters=1, desc='CIFAR-10 Dataset') as pbar:\n",
    "        urlretrieve(\n",
    "            'https://www.cs.toronto.edu/~kriz/cifar-10-python.tar.gz',\n",
    "            'cifar-10-python.tar.gz',\n",
    "            pbar.hook)\n",
    "\n",
    "if not isdir(cifar10_dataset_folder_path):\n",
    "    with tarfile.open('cifar-10-python.tar.gz') as tar:\n",
    "        tar.extractall()\n",
    "        tar.close()\n",
    "\n",
    "\n",
    "tests.test_folder_path(cifar10_dataset_folder_path)"
   ]
  },
  {
   "cell_type": "markdown",
   "metadata": {
    "deletable": true,
    "editable": true
   },
   "source": [
    "## Explore the Data\n",
    "The dataset is broken into batches to prevent your machine from running out of memory.  The CIFAR-10 dataset consists of 5 batches, named `data_batch_1`, `data_batch_2`, etc.. Each batch contains the labels and images that are one of the following:\n",
    "* airplane\n",
    "* automobile\n",
    "* bird\n",
    "* cat\n",
    "* deer\n",
    "* dog\n",
    "* frog\n",
    "* horse\n",
    "* ship\n",
    "* truck\n",
    "\n",
    "Understanding a dataset is part of making predictions on the data.  Play around with the code cell below by changing the `batch_id` and `sample_id`. The `batch_id` is the id for a batch (1-5). The `sample_id` is the id for a image and label pair in the batch.\n",
    "\n",
    "Ask yourself \"What are all possible labels?\", \"What is the range of values for the image data?\", \"Are the labels in order or random?\".  Answers to questions like these will help you preprocess the data and end up with better predictions."
   ]
  },
  {
   "cell_type": "code",
   "execution_count": 7,
   "metadata": {
    "collapsed": false,
    "deletable": true,
    "editable": true
   },
   "outputs": [
    {
     "name": "stdout",
     "output_type": "stream",
     "text": [
      "\n",
      "Stats of batch 4:\n",
      "Samples: 10000\n",
      "Label Counts: {0: 1003, 1: 963, 2: 1041, 3: 976, 4: 1004, 5: 1021, 6: 1004, 7: 981, 8: 1024, 9: 983}\n",
      "First 20 Labels: [0, 6, 0, 2, 7, 2, 1, 2, 4, 1, 5, 6, 6, 3, 1, 3, 5, 5, 8, 1]\n",
      "\n",
      "Example of Image 5:\n",
      "Image - Min Value: 13 Max Value: 169\n",
      "Image - Shape: (32, 32, 3)\n",
      "Label - Label Id: 2 Name: bird\n"
     ]
    },
    {
     "data": {
      "image/png": "[encoded data removed]",
      "text/plain": [
       "<matplotlib.figure.Figure at 0x114e7d080>"
      ]
     },
     "metadata": {
      "image/png": {
       "height": 250,
       "width": 253
      }
     },
     "output_type": "display_data"
    }
   ],
   "source": [
    "%matplotlib inline\n",
    "%config InlineBackend.figure_format = 'retina'\n",
    "\n",
    "import helper\n",
    "import numpy as np\n",
    "\n",
    "# Explore the dataset\n",
    "batch_id = 4\n",
    "sample_id = 5\n",
    "helper.display_stats(cifar10_dataset_folder_path, batch_id, sample_id)"
   ]
  },
  {
   "cell_type": "markdown",
   "metadata": {
    "deletable": true,
    "editable": true
   },
   "source": [
    "## Implement Preprocess Functions\n",
    "### Normalize\n",
    "In the cell below, implement the `normalize` function to take in image data, `x`, and return it as a normalized Numpy array. The values should be in the range of 0 to 1, inclusive.  The return object should be the same shape as `x`."
   ]
  },
  {
   "cell_type": "code",
   "execution_count": 9,
   "metadata": {
    "collapsed": false,
    "deletable": true,
    "editable": true
   },
   "outputs": [
    {
     "name": "stdout",
     "output_type": "stream",
     "text": [
      "Tests Passed\n"
     ]
    }
   ],
   "source": [
    "def normalize(x):\n",
    "    \"\"\"\n",
    "    Normalize a list of sample image data in the range of 0 to 1\n",
    "    : x: List of image data.  The image shape is (32, 32, 3)\n",
    "    : return: Numpy array of normalize data\n",
    "    \"\"\"\n",
    "    return x/255.0\n",
    "\n",
    "\n",
    "\"\"\"\n",
    "DON'T MODIFY ANYTHING IN THIS CELL THAT IS BELOW THIS LINE\n",
    "\"\"\"\n",
    "tests.test_normalize(normalize)"
   ]
  },
  {
   "cell_type": "markdown",
   "metadata": {
    "deletable": true,
    "editable": true
   },
   "source": [
    "### One-hot encode\n",
    "Just like the previous code cell, you'll be implementing a function for preprocessing.  This time, you'll implement the `one_hot_encode` function. The input, `x`, are a list of labels.  Implement the function to return the list of labels as One-Hot encoded Numpy array.  The possible values for labels are 0 to 9. The one-hot encoding function should return the same encoding for each value between each call to `one_hot_encode`.  Make sure to save the map of encodings outside the function.\n",
    "\n",
    "Hint: Don't reinvent the wheel."
   ]
  },
  {
   "cell_type": "code",
   "execution_count": 21,
   "metadata": {
    "collapsed": false,
    "deletable": true,
    "editable": true
   },
   "outputs": [
    {
     "name": "stdout",
     "output_type": "stream",
     "text": [
      "Tests Passed\n"
     ]
    }
   ],
   "source": [
    "def one_hot_encode(x):\n",
    "    \"\"\"\n",
    "    One hot encode a list of sample labels. Return a one-hot encoded vector for each label.\n",
    "    : x: List of sample Labels\n",
    "    : return: Numpy array of one-hot encoded labels\n",
    "    \"\"\"\n",
    "    encodings = np.zeros((len(x), 10))\n",
    "    for i, l in enumerate(x):\n",
    "        encodings[i][l] = 1.\n",
    "    return encodings\n",
    "\n",
    "\n",
    "\"\"\"\n",
    "DON'T MODIFY ANYTHING IN THIS CELL THAT IS BELOW THIS LINE\n",
    "\"\"\"\n",
    "tests.test_one_hot_encode(one_hot_encode)"
   ]
  },
  {
   "cell_type": "markdown",
   "metadata": {
    "deletable": true,
    "editable": true
   },
   "source": [
    "### Randomize Data\n",
    "As you saw from exploring the data above, the order of the samples are randomized.  It doesn't hurt to randomize it again, but you don't need to for this dataset."
   ]
  },
  {
   "cell_type": "markdown",
   "metadata": {
    "deletable": true,
    "editable": true
   },
   "source": [
    "## Preprocess all the data and save it\n",
    "Running the code cell below will preprocess all the CIFAR-10 data and save it to file. The code below also uses 10% of the training data for validation."
   ]
  },
  {
   "cell_type": "code",
   "execution_count": 14,
   "metadata": {
    "collapsed": false,
    "deletable": true,
    "editable": true
   },
   "outputs": [],
   "source": [
    "\"\"\"\n",
    "DON'T MODIFY ANYTHING IN THIS CELL\n",
    "\"\"\"\n",
    "# Preprocess Training, Validation, and Testing Data\n",
    "helper.preprocess_and_save_data(cifar10_dataset_folder_path, normalize, one_hot_encode)"
   ]
  },
  {
   "cell_type": "markdown",
   "metadata": {
    "deletable": true,
    "editable": true
   },
   "source": [
    "# Check Point\n",
    "This is your first checkpoint.  If you ever decide to come back to this notebook or have to restart the notebook, you can start from here.  The preprocessed data has been saved to disk."
   ]
  },
  {
   "cell_type": "code",
   "execution_count": 1,
   "metadata": {
    "collapsed": true,
    "deletable": true,
    "editable": true
   },
   "outputs": [],
   "source": [
    "\"\"\"\n",
    "DON'T MODIFY ANYTHING IN THIS CELL\n",
    "\"\"\"\n",
    "import pickle\n",
    "import problem_unittests as tests\n",
    "import helper\n",
    "\n",
    "# Load the Preprocessed Validation data\n",
    "valid_features, valid_labels = pickle.load(open('preprocess_validation.p', mode='rb'))"
   ]
  },
  {
   "cell_type": "markdown",
   "metadata": {
    "deletable": true,
    "editable": true
   },
   "source": [
    "## Build the network\n",
    "For the neural network, you'll build each layer into a function.  Most of the code you've seen has been outside of functions. To test your code more thoroughly, we require that you put each layer in a function.  This allows us to give you better feedback and test for simple mistakes using our unittests before you submit your project.\n",
    "\n",
    "If you're finding it hard to dedicate enough time for this course a week, we've provided a small shortcut to this part of the project. In the next couple of problems, you'll have the option to use [TensorFlow Layers](https://www.tensorflow.org/api_docs/python/tf/layers) or [TensorFlow Layers (contrib)](https://www.tensorflow.org/api_guides/python/contrib.layers) to build each layer, except \"Convolutional & Max Pooling\" layer.  TF Layers is similar to Keras's and TFLearn's abstraction to layers, so it's easy to pickup.\n",
    "\n",
    "If you would like to get the most of this course, try to solve all the problems without TF Layers.  Let's begin!\n",
    "### Input\n",
    "The neural network needs to read the image data, one-hot encoded labels, and dropout keep probability. Implement the following functions\n",
    "* Implement `neural_net_image_input`\n",
    " * Return a [TF Placeholder](https://www.tensorflow.org/api_docs/python/tf/placeholder)\n",
    " * Set the shape using `image_shape` with batch size set to `None`.\n",
    " * Name the TensorFlow placeholder \"x\" using the TensorFlow `name` parameter in the [TF Placeholder](https://www.tensorflow.org/api_docs/python/tf/placeholder).\n",
    "* Implement `neural_net_label_input`\n",
    " * Return a [TF Placeholder](https://www.tensorflow.org/api_docs/python/tf/placeholder)\n",
    " * Set the shape using `n_classes` with batch size set to `None`.\n",
    " * Name the TensorFlow placeholder \"y\" using the TensorFlow `name` parameter in the [TF Placeholder](https://www.tensorflow.org/api_docs/python/tf/placeholder).\n",
    "* Implement `neural_net_keep_prob_input`\n",
    " * Return a [TF Placeholder](https://www.tensorflow.org/api_docs/python/tf/placeholder) for dropout keep probability.\n",
    " * Name the TensorFlow placeholder \"keep_prob\" using the TensorFlow `name` parameter in the [TF Placeholder](https://www.tensorflow.org/api_docs/python/tf/placeholder).\n",
    "\n",
    "These names will be used at the end of the project to load your saved model.\n",
    "\n",
    "Note: `None` for shapes in TensorFlow allow for a dynamic size."
   ]
  },
  {
   "cell_type": "code",
   "execution_count": 2,
   "metadata": {
    "collapsed": false,
    "deletable": true,
    "editable": true
   },
   "outputs": [
    {
     "name": "stdout",
     "output_type": "stream",
     "text": [
      "Image Input Tests Passed.\n",
      "Label Input Tests Passed.\n",
      "Keep Prob Tests Passed.\n"
     ]
    }
   ],
   "source": [
    "import tensorflow as tf\n",
    "\n",
    "def neural_net_image_input(image_shape):\n",
    "    \"\"\"\n",
    "    Return a Tensor for a bach of image input\n",
    "    : image_shape: Shape of the images\n",
    "    : return: Tensor for image input.\n",
    "    \"\"\"\n",
    "    return tf.placeholder(tf.float32,[None, image_shape[0], image_shape[1], image_shape[2]], name='x')\n",
    "\n",
    "\n",
    "def neural_net_label_input(n_classes):\n",
    "    \"\"\"\n",
    "    Return a Tensor for a batch of label input\n",
    "    : n_classes: Number of classes\n",
    "    : return: Tensor for label input.\n",
    "    \"\"\"\n",
    "    return tf.placeholder(tf.float32, [None, n_classes], name=\"y\")\n",
    "\n",
    "\n",
    "def neural_net_keep_prob_input():\n",
    "    \"\"\"\n",
    "    Return a Tensor for keep probability\n",
    "    : return: Tensor for keep probability.\n",
    "    \"\"\"\n",
    "    return tf.placeholder(tf.float32, name=\"keep_prob\")\n",
    "\n",
    "\n",
    "\"\"\"\n",
    "DON'T MODIFY ANYTHING IN THIS CELL THAT IS BELOW THIS LINE\n",
    "\"\"\"\n",
    "tf.reset_default_graph()\n",
    "tests.test_nn_image_inputs(neural_net_image_input)\n",
    "tests.test_nn_label_inputs(neural_net_label_input)\n",
    "tests.test_nn_keep_prob_inputs(neural_net_keep_prob_input)"
   ]
  },
  {
   "cell_type": "markdown",
   "metadata": {
    "deletable": true,
    "editable": true
   },
   "source": [
    "### Convolution and Max Pooling Layer\n",
    "Convolution layers have a lot of success with images. For this code cell, you should implement the function `conv2d_maxpool` to apply convolution then max pooling:\n",
    "* Create the weight and bias using `conv_ksize`, `conv_num_outputs` and the shape of `x_tensor`.\n",
    "* Apply a convolution to `x_tensor` using weight and `conv_strides`.\n",
    " * We recommend you use same padding, but you're welcome to use any padding.\n",
    "* Add bias\n",
    "* Add a nonlinear activation to the convolution.\n",
    "* Apply Max Pooling using `pool_ksize` and `pool_strides`.\n",
    " * We recommend you use same padding, but you're welcome to use any padding.\n",
    "\n",
    "Note: You **can't** use [TensorFlow Layers](https://www.tensorflow.org/api_docs/python/tf/layers) or [TensorFlow Layers (contrib)](https://www.tensorflow.org/api_guides/python/contrib.layers) for this layer.  You're free to use any TensorFlow package for all the other layers."
   ]
  },
  {
   "cell_type": "code",
   "execution_count": 3,
   "metadata": {
    "collapsed": false,
    "deletable": true,
    "editable": true
   },
   "outputs": [
    {
     "name": "stdout",
     "output_type": "stream",
     "text": [
      "Tests Passed\n"
     ]
    }
   ],
   "source": [
    "def conv2d_maxpool(x_tensor, conv_num_outputs, conv_ksize, conv_strides, pool_ksize, pool_strides):\n",
    "    \"\"\"\n",
    "    Apply convolution then max pooling to x_tensor\n",
    "    :param x_tensor: TensorFlow Tensor\n",
    "    :param conv_num_outputs: Number of outputs for the convolutional layer\n",
    "    :param conv_strides: Stride 2-D Tuple for convolution\n",
    "    :param pool_ksize: kernal size 2-D Tuple for pool\n",
    "    :param pool_strides: Stride 2-D Tuple for pool\n",
    "    : return: A tensor that represents convolution and max pooling of x_tensor\n",
    "    \"\"\"\n",
    "    mu = 0\n",
    "    sigma = 0.1\n",
    "    #convolution kernel size\n",
    "    conv_h,conv_w = conv_ksize\n",
    "    #output depth \n",
    "    output_depth = conv_num_outputs\n",
    "    #get [B,H,W,C] size, in_batch, in_height, in_weight, & in_depth\n",
    "    in_b, in_h, in_w, in_depth = x_tensor.shape\n",
    "    #weights\n",
    "    shape=(int(conv_h), int(conv_w), int(in_depth), int(output_depth))\n",
    "    F_W = tf.Variable(tf.truncated_normal(shape=shape, mean = mu, stddev = sigma))\n",
    "    #bias\n",
    "    F_B = tf.Variable(tf.zeros([int(output_depth)]))\n",
    "    s_h,s_w = conv_strides\n",
    "    padding = 'VALID'\n",
    "    conv = tf.nn.conv2d(x_tensor, F_W, strides=[1, int(s_h), int(s_w), 1], padding=padding) + F_B\n",
    "    conv = tf.nn.relu(conv)\n",
    "    pool_h, pool_w = pool_ksize\n",
    "    pool_h_s,pool_w_s = pool_strides\n",
    "    conv = tf.nn.max_pool(conv, ksize=[1, pool_h, pool_w, 1],strides=[1, pool_h_s, pool_w_s, 1],padding=padding)\n",
    "    return conv\n",
    "\n",
    "\n",
    "\"\"\"\n",
    "DON'T MODIFY ANYTHING IN THIS CELL THAT IS BELOW THIS LINE\n",
    "\"\"\"\n",
    "tests.test_con_pool(conv2d_maxpool)"
   ]
  },
  {
   "cell_type": "markdown",
   "metadata": {
    "deletable": true,
    "editable": true
   },
   "source": [
    "### Flatten Layer\n",
    "Implement the `flatten` function to change the dimension of `x_tensor` from a 4-D tensor to a 2-D tensor.  The output should be the shape (*Batch Size*, *Flattened Image Size*). You can use [TensorFlow Layers](https://www.tensorflow.org/api_docs/python/tf/layers) or [TensorFlow Layers (contrib)](https://www.tensorflow.org/api_guides/python/contrib.layers) for this layer."
   ]
  },
  {
   "cell_type": "code",
   "execution_count": 4,
   "metadata": {
    "collapsed": false,
    "deletable": true,
    "editable": true
   },
   "outputs": [
    {
     "name": "stdout",
     "output_type": "stream",
     "text": [
      "Tests Passed\n"
     ]
    }
   ],
   "source": [
    "def flatten(x_tensor):\n",
    "    \"\"\"\n",
    "    Flatten x_tensor to (Batch Size, Flattened Image Size)\n",
    "    : x_tensor: A tensor of size (Batch Size, ...), where ... are the image dimensions.\n",
    "    : return: A tensor of size (Batch Size, Flattened Image Size).\n",
    "    \"\"\"\n",
    "    return tf.reshape(x_tensor, [-1, int(x_tensor.shape[1])*int(x_tensor.shape[2])*int(x_tensor.shape[3])])\n",
    "\n",
    "\n",
    "\"\"\"\n",
    "DON'T MODIFY ANYTHING IN THIS CELL THAT IS BELOW THIS LINE\n",
    "\"\"\"\n",
    "tests.test_flatten(flatten)"
   ]
  },
  {
   "cell_type": "markdown",
   "metadata": {
    "deletable": true,
    "editable": true
   },
   "source": [
    "### Fully-Connected Layer\n",
    "Implement the `fully_conn` function to apply a fully connected layer to `x_tensor` with the shape (*Batch Size*, *num_outputs*). You can use [TensorFlow Layers](https://www.tensorflow.org/api_docs/python/tf/layers) or [TensorFlow Layers (contrib)](https://www.tensorflow.org/api_guides/python/contrib.layers) for this layer."
   ]
  },
  {
   "cell_type": "code",
   "execution_count": 5,
   "metadata": {
    "collapsed": false,
    "deletable": true,
    "editable": true
   },
   "outputs": [
    {
     "name": "stdout",
     "output_type": "stream",
     "text": [
      "Tests Passed\n"
     ]
    }
   ],
   "source": [
    "def fully_conn(x_tensor, num_outputs):\n",
    "    \"\"\"\n",
    "    Apply a fully connected layer to x_tensor using weight and bias\n",
    "    : x_tensor: A 2-D tensor where the first dimension is batch size.\n",
    "    : num_outputs: The number of output that the new tensor should be.\n",
    "    : return: A 2-D tensor where the second dimension is num_outputs.\n",
    "    \"\"\"\n",
    "    mu = 0\n",
    "    sigma = 0.1\n",
    "    shape=(x_tensor.get_shape().as_list()[1], num_outputs)\n",
    "    w = tf.Variable(tf.random_normal(shape = shape, mean = mu, stddev = sigma))\n",
    "    b = tf.Variable(tf.zeros([num_outputs]))\n",
    "    y = tf.nn.relu(tf.add(tf.matmul(x_tensor, w), b))\n",
    "    return y\n",
    "\n",
    "\n",
    "\"\"\"\n",
    "DON'T MODIFY ANYTHING IN THIS CELL THAT IS BELOW THIS LINE\n",
    "\"\"\"\n",
    "tests.test_fully_conn(fully_conn)"
   ]
  },
  {
   "cell_type": "markdown",
   "metadata": {
    "deletable": true,
    "editable": true
   },
   "source": [
    "### Output Layer\n",
    "Implement the `output` function to apply a fully connected layer to `x_tensor` with the shape (*Batch Size*, *num_outputs*). You can use [TensorFlow Layers](https://www.tensorflow.org/api_docs/python/tf/layers) or [TensorFlow Layers (contrib)](https://www.tensorflow.org/api_guides/python/contrib.layers) for this layer.\n",
    "\n",
    "Note: Activation, softmax, or cross entropy shouldn't be applied to this."
   ]
  },
  {
   "cell_type": "code",
   "execution_count": 6,
   "metadata": {
    "collapsed": false,
    "deletable": true,
    "editable": true
   },
   "outputs": [
    {
     "name": "stdout",
     "output_type": "stream",
     "text": [
      "Tests Passed\n"
     ]
    }
   ],
   "source": [
    "def output(x_tensor, num_outputs):\n",
    "    \"\"\"\n",
    "    Apply a output layer to x_tensor using weight and bias\n",
    "    : x_tensor: A 2-D tensor where the first dimension is batch size.\n",
    "    : num_outputs: The number of output that the new tensor should be.\n",
    "    : return: A 2-D tensor where the second dimension is num_outputs.\n",
    "    \"\"\"\n",
    "    mu = 0\n",
    "    sigma = 0.1\n",
    "    shape = (x_tensor.get_shape().as_list()[1], num_outputs)\n",
    "    w = tf.Variable(tf.random_normal(shape = shape, mean = mu, stddev = sigma))\n",
    "    b = tf.Variable(tf.random_normal([num_outputs]))\n",
    "    y = tf.add(tf.matmul(x_tensor, w), b)\n",
    "    return y\n",
    "\n",
    "\n",
    "\"\"\"\n",
    "DON'T MODIFY ANYTHING IN THIS CELL THAT IS BELOW THIS LINE\n",
    "\"\"\"\n",
    "tests.test_output(output)"
   ]
  },
  {
   "cell_type": "markdown",
   "metadata": {
    "deletable": true,
    "editable": true
   },
   "source": [
    "### Create Convolutional Model\n",
    "Implement the function `conv_net` to create a convolutional neural network model. The function takes in a batch of images, `x`, and outputs logits.  Use the layers you created above to create this model:\n",
    "\n",
    "* Apply 1, 2, or 3 Convolution and Max Pool layers\n",
    "* Apply a Flatten Layer\n",
    "* Apply 1, 2, or 3 Fully Connected Layers\n",
    "* Apply an Output Layer\n",
    "* Return the output\n",
    "* Apply [TensorFlow's Dropout](https://www.tensorflow.org/api_docs/python/tf/nn/dropout) to one or more layers in the model using `keep_prob`. "
   ]
  },
  {
   "cell_type": "code",
   "execution_count": 7,
   "metadata": {
    "collapsed": false,
    "deletable": true,
    "editable": true
   },
   "outputs": [
    {
     "name": "stdout",
     "output_type": "stream",
     "text": [
      "Neural Network Built!\n"
     ]
    }
   ],
   "source": [
    "def conv_net(x, keep_prob):\n",
    "    \"\"\"\n",
    "    Create a convolutional neural network model\n",
    "    : x: Placeholder tensor that holds image data.\n",
    "    : keep_prob: Placeholder tensor that hold dropout keep probability.\n",
    "    : return: Tensor that represents logits\n",
    "    \"\"\"\n",
    "    # TODO: Apply 1, 2, or 3 Convolution and Max Pool layers\n",
    "    #    Play around with different number of outputs, kernel size and stride\n",
    "    # Function Definition from Above:\n",
    "    #    conv2d_maxpool(x_tensor, conv_num_outputs, conv_ksize, conv_strides, pool_ksize, pool_strides)\n",
    "    conv1 = conv2d_maxpool(x_tensor=x,\n",
    "                           conv_num_outputs=6,\n",
    "                           conv_ksize=(5,5),\n",
    "                           conv_strides=(1,1),\n",
    "                           pool_ksize=(2,2),\n",
    "                           pool_strides=(2,2))\n",
    "    \n",
    "    conv2 = conv2d_maxpool(x_tensor=conv1,\n",
    "                           conv_num_outputs=16,\n",
    "                           conv_ksize=(5,5),\n",
    "                           conv_strides=(1,1),\n",
    "                           pool_ksize=(2,2),\n",
    "                           pool_strides=(2,2))\n",
    "\n",
    "    # Apply a Flatten Layer\n",
    "    # Function Definition from Above:\n",
    "    #   flatten(x_tensor)\n",
    "    flat_layer = flatten(conv2)\n",
    "    \n",
    "\n",
    "    # TODO: Apply 1, 2, or 3 Fully Connected Layers\n",
    "    #    Play around with different number of outputs\n",
    "    # Function Definition from Above:\n",
    "    #   fully_conn(x_tensor, num_outputs)\n",
    "    fc1 = fully_conn(flat_layer, 120)\n",
    "    fc1 = tf.nn.dropout(fc1, keep_prob)\n",
    "    \n",
    "    fc2 = fully_conn(fc1, 84)\n",
    "    fc2 = tf.nn.dropout(fc2, keep_prob)\n",
    "    \n",
    "    # TODO: Apply an Output Layer\n",
    "    #    Set this to the number of classes\n",
    "    # Function Definition from Above:\n",
    "    #   output(x_tensor, num_outputs)\n",
    "    output_layer = output(fc2, 10)\n",
    "    \n",
    "    \n",
    "    return output_layer\n",
    "\n",
    "\n",
    "\"\"\"\n",
    "DON'T MODIFY ANYTHING IN THIS CELL THAT IS BELOW THIS LINE\n",
    "\"\"\"\n",
    "\n",
    "##############################\n",
    "## Build the Neural Network ##\n",
    "##############################\n",
    "\n",
    "# Remove previous weights, bias, inputs, etc..\n",
    "tf.reset_default_graph()\n",
    "\n",
    "# Inputs\n",
    "x = neural_net_image_input((32, 32, 3))\n",
    "y = neural_net_label_input(10)\n",
    "keep_prob = neural_net_keep_prob_input()\n",
    "\n",
    "# Model\n",
    "logits = conv_net(x, keep_prob)\n",
    "\n",
    "# Name logits Tensor, so that is can be loaded from disk after training\n",
    "logits = tf.identity(logits, name='logits')\n",
    "\n",
    "# Loss and Optimizer\n",
    "cost = tf.reduce_mean(tf.nn.softmax_cross_entropy_with_logits(logits=logits, labels=y))\n",
    "optimizer = tf.train.AdamOptimizer().minimize(cost)\n",
    "\n",
    "# Accuracy\n",
    "correct_pred = tf.equal(tf.argmax(logits, 1), tf.argmax(y, 1))\n",
    "accuracy = tf.reduce_mean(tf.cast(correct_pred, tf.float32), name='accuracy')\n",
    "\n",
    "tests.test_conv_net(conv_net)"
   ]
  },
  {
   "cell_type": "markdown",
   "metadata": {
    "deletable": true,
    "editable": true
   },
   "source": [
    "## Train the Neural Network\n",
    "### Single Optimization\n",
    "Implement the function `train_neural_network` to do a single optimization.  The optimization should use `optimizer` to optimize in `session` with a `feed_dict` of the following:\n",
    "* `x` for image input\n",
    "* `y` for labels\n",
    "* `keep_prob` for keep probability for dropout\n",
    "\n",
    "This function will be called for each batch, so `tf.global_variables_initializer()` has already been called.\n",
    "\n",
    "Note: Nothing needs to be returned. This function is only optimizing the neural network."
   ]
  },
  {
   "cell_type": "code",
   "execution_count": 8,
   "metadata": {
    "collapsed": false,
    "deletable": true,
    "editable": true
   },
   "outputs": [
    {
     "name": "stdout",
     "output_type": "stream",
     "text": [
      "Tests Passed\n"
     ]
    }
   ],
   "source": [
    "def train_neural_network(session, optimizer, keep_probability, feature_batch, label_batch):\n",
    "    \"\"\"\n",
    "    Optimize the session on a batch of images and labels\n",
    "    : session: Current TensorFlow session\n",
    "    : optimizer: TensorFlow optimizer function\n",
    "    : keep_probability: keep probability\n",
    "    : feature_batch: Batch of Numpy image data\n",
    "    : label_batch: Batch of Numpy label data\n",
    "    \"\"\"\n",
    "    session.run(optimizer, feed_dict={\n",
    "                x: feature_batch,\n",
    "                y: label_batch,\n",
    "                keep_prob: keep_probability})\n",
    "\"\"\"\n",
    "DON'T MODIFY ANYTHING IN THIS CELL THAT IS BELOW THIS LINE\n",
    "\"\"\"\n",
    "tests.test_train_nn(train_neural_network)"
   ]
  },
  {
   "cell_type": "markdown",
   "metadata": {
    "deletable": true,
    "editable": true
   },
   "source": [
    "### Show Stats\n",
    "Implement the function `print_stats` to print loss and validation accuracy.  Use the global variables `valid_features` and `valid_labels` to calculate validation accuracy.  Use a keep probability of `1.0` to calculate the loss and validation accuracy."
   ]
  },
  {
   "cell_type": "code",
   "execution_count": 9,
   "metadata": {
    "collapsed": false,
    "deletable": true,
    "editable": true
   },
   "outputs": [],
   "source": [
    "def print_stats(session, feature_batch, label_batch, cost, accuracy):\n",
    "    \"\"\"\n",
    "    Print information about loss and validation accuracy\n",
    "    : session: Current TensorFlow session\n",
    "    : feature_batch: Batch of Numpy image data\n",
    "    : label_batch: Batch of Numpy label data\n",
    "    : cost: TensorFlow cost function\n",
    "    : accuracy: TensorFlow accuracy function\n",
    "    \"\"\"\n",
    "    loss = session.run(cost, feed_dict={\n",
    "                x: feature_batch,\n",
    "                y: label_batch,\n",
    "                keep_prob: 1.})\n",
    "    \n",
    "    valid_acc = session.run(accuracy, feed_dict={\n",
    "                x: valid_features,\n",
    "                y: valid_labels,\n",
    "                keep_prob: 1.})\n",
    "    print('Loss: {:>10.4f} Validation Accuracy: {:.6f}'.format(loss, valid_acc))"
   ]
  },
  {
   "cell_type": "markdown",
   "metadata": {
    "deletable": true,
    "editable": true
   },
   "source": [
    "### Hyperparameters\n",
    "Tune the following parameters:\n",
    "* Set `epochs` to the number of iterations until the network stops learning or start overfitting\n",
    "* Set `batch_size` to the highest number that your machine has memory for.  Most people set them to common sizes of memory:\n",
    " * 64\n",
    " * 128\n",
    " * 256\n",
    " * ...\n",
    "* Set `keep_probability` to the probability of keeping a node using dropout"
   ]
  },
  {
   "cell_type": "code",
   "execution_count": 10,
   "metadata": {
    "collapsed": true,
    "deletable": true,
    "editable": true
   },
   "outputs": [],
   "source": [
    "# TODO: Tune Parameters\n",
    "epochs = 30\n",
    "batch_size = 512\n",
    "keep_probability = 1.0"
   ]
  },
  {
   "cell_type": "markdown",
   "metadata": {
    "deletable": true,
    "editable": true
   },
   "source": [
    "### Train on a Single CIFAR-10 Batch\n",
    "Instead of training the neural network on all the CIFAR-10 batches of data, let's use a single batch. This should save time while you iterate on the model to get a better accuracy.  Once the final validation accuracy is 50% or greater, run the model on all the data in the next section."
   ]
  },
  {
   "cell_type": "code",
   "execution_count": 11,
   "metadata": {
    "collapsed": false,
    "deletable": true,
    "editable": true
   },
   "outputs": [
    {
     "name": "stdout",
     "output_type": "stream",
     "text": [
      "Checking the Training on a Single Batch...\n",
      "Epoch  1, CIFAR-10 Batch 1:  Loss:     2.2714 Validation Accuracy: 0.147800\n",
      "Epoch  2, CIFAR-10 Batch 1:  Loss:     2.1881 Validation Accuracy: 0.208600\n",
      "Epoch  3, CIFAR-10 Batch 1:  Loss:     2.0791 Validation Accuracy: 0.256400\n",
      "Epoch  4, CIFAR-10 Batch 1:  Loss:     1.9622 Validation Accuracy: 0.314400\n",
      "Epoch  5, CIFAR-10 Batch 1:  Loss:     1.8630 Validation Accuracy: 0.359800\n",
      "Epoch  6, CIFAR-10 Batch 1:  Loss:     1.7924 Validation Accuracy: 0.382600\n",
      "Epoch  7, CIFAR-10 Batch 1:  Loss:     1.7375 Validation Accuracy: 0.404400\n",
      "Epoch  8, CIFAR-10 Batch 1:  Loss:     1.6965 Validation Accuracy: 0.417600\n",
      "Epoch  9, CIFAR-10 Batch 1:  Loss:     1.6489 Validation Accuracy: 0.428600\n",
      "Epoch 10, CIFAR-10 Batch 1:  Loss:     1.6052 Validation Accuracy: 0.433400\n",
      "Epoch 11, CIFAR-10 Batch 1:  Loss:     1.5930 Validation Accuracy: 0.428200\n",
      "Epoch 12, CIFAR-10 Batch 1:  Loss:     1.5818 Validation Accuracy: 0.424200\n",
      "Epoch 13, CIFAR-10 Batch 1:  Loss:     1.5263 Validation Accuracy: 0.435800\n",
      "Epoch 14, CIFAR-10 Batch 1:  Loss:     1.4839 Validation Accuracy: 0.443800\n",
      "Epoch 15, CIFAR-10 Batch 1:  Loss:     1.4581 Validation Accuracy: 0.451400\n",
      "Epoch 16, CIFAR-10 Batch 1:  Loss:     1.4248 Validation Accuracy: 0.456600\n",
      "Epoch 17, CIFAR-10 Batch 1:  Loss:     1.3993 Validation Accuracy: 0.459600\n",
      "Epoch 18, CIFAR-10 Batch 1:  Loss:     1.3782 Validation Accuracy: 0.462200\n",
      "Epoch 19, CIFAR-10 Batch 1:  Loss:     1.3501 Validation Accuracy: 0.467600\n",
      "Epoch 20, CIFAR-10 Batch 1:  Loss:     1.3212 Validation Accuracy: 0.472400\n",
      "Epoch 21, CIFAR-10 Batch 1:  Loss:     1.2917 Validation Accuracy: 0.478400\n",
      "Epoch 22, CIFAR-10 Batch 1:  Loss:     1.2622 Validation Accuracy: 0.476600\n",
      "Epoch 23, CIFAR-10 Batch 1:  Loss:     1.2391 Validation Accuracy: 0.480000\n",
      "Epoch 24, CIFAR-10 Batch 1:  Loss:     1.2059 Validation Accuracy: 0.482800\n",
      "Epoch 25, CIFAR-10 Batch 1:  Loss:     1.1818 Validation Accuracy: 0.486200\n",
      "Epoch 26, CIFAR-10 Batch 1:  Loss:     1.1547 Validation Accuracy: 0.489200\n",
      "Epoch 27, CIFAR-10 Batch 1:  Loss:     1.1374 Validation Accuracy: 0.484800\n",
      "Epoch 28, CIFAR-10 Batch 1:  Loss:     1.1160 Validation Accuracy: 0.487600\n",
      "Epoch 29, CIFAR-10 Batch 1:  Loss:     1.0733 Validation Accuracy: 0.488600\n",
      "Epoch 30, CIFAR-10 Batch 1:  Loss:     1.0555 Validation Accuracy: 0.485800\n"
     ]
    }
   ],
   "source": [
    "\"\"\"\n",
    "DON'T MODIFY ANYTHING IN THIS CELL\n",
    "\"\"\"\n",
    "print('Checking the Training on a Single Batch...')\n",
    "with tf.Session() as sess:\n",
    "    # Initializing the variables\n",
    "    sess.run(tf.global_variables_initializer())\n",
    "    \n",
    "    # Training cycle\n",
    "    for epoch in range(epochs):\n",
    "        batch_i = 1\n",
    "        for batch_features, batch_labels in helper.load_preprocess_training_batch(batch_i, batch_size):\n",
    "            train_neural_network(sess, optimizer, keep_probability, batch_features, batch_labels)\n",
    "        print('Epoch {:>2}, CIFAR-10 Batch {}:  '.format(epoch + 1, batch_i), end='')\n",
    "        print_stats(sess, batch_features, batch_labels, cost, accuracy)"
   ]
  },
  {
   "cell_type": "markdown",
   "metadata": {
    "deletable": true,
    "editable": true
   },
   "source": [
    "### Fully Train the Model\n",
    "Now that you got a good accuracy with a single CIFAR-10 batch, try it with all five batches."
   ]
  },
  {
   "cell_type": "code",
   "execution_count": 12,
   "metadata": {
    "collapsed": false,
    "deletable": true,
    "editable": true
   },
   "outputs": [
    {
     "name": "stdout",
     "output_type": "stream",
     "text": [
      "Training...\n",
      "Epoch  1, CIFAR-10 Batch 1:  Loss:     2.3038 Validation Accuracy: 0.135600\n",
      "Epoch  1, CIFAR-10 Batch 2:  Loss:     2.1688 Validation Accuracy: 0.233200\n",
      "Epoch  1, CIFAR-10 Batch 3:  Loss:     1.8997 Validation Accuracy: 0.270000\n",
      "Epoch  1, CIFAR-10 Batch 4:  Loss:     1.7995 Validation Accuracy: 0.314000\n",
      "Epoch  1, CIFAR-10 Batch 5:  Loss:     1.8361 Validation Accuracy: 0.345400\n",
      "Epoch  2, CIFAR-10 Batch 1:  Loss:     1.8379 Validation Accuracy: 0.349600\n",
      "Epoch  2, CIFAR-10 Batch 2:  Loss:     1.6783 Validation Accuracy: 0.390400\n",
      "Epoch  2, CIFAR-10 Batch 3:  Loss:     1.5374 Validation Accuracy: 0.388800\n",
      "Epoch  2, CIFAR-10 Batch 4:  Loss:     1.5619 Validation Accuracy: 0.402000\n",
      "Epoch  2, CIFAR-10 Batch 5:  Loss:     1.6555 Validation Accuracy: 0.411600\n",
      "Epoch  3, CIFAR-10 Batch 1:  Loss:     1.6549 Validation Accuracy: 0.418400\n",
      "Epoch  3, CIFAR-10 Batch 2:  Loss:     1.5509 Validation Accuracy: 0.431400\n",
      "Epoch  3, CIFAR-10 Batch 3:  Loss:     1.3998 Validation Accuracy: 0.431800\n",
      "Epoch  3, CIFAR-10 Batch 4:  Loss:     1.4390 Validation Accuracy: 0.438800\n",
      "Epoch  3, CIFAR-10 Batch 5:  Loss:     1.5527 Validation Accuracy: 0.437600\n",
      "Epoch  4, CIFAR-10 Batch 1:  Loss:     1.5674 Validation Accuracy: 0.444800\n",
      "Epoch  4, CIFAR-10 Batch 2:  Loss:     1.4715 Validation Accuracy: 0.451400\n",
      "Epoch  4, CIFAR-10 Batch 3:  Loss:     1.3343 Validation Accuracy: 0.454600\n",
      "Epoch  4, CIFAR-10 Batch 4:  Loss:     1.3496 Validation Accuracy: 0.467000\n",
      "Epoch  4, CIFAR-10 Batch 5:  Loss:     1.4823 Validation Accuracy: 0.465000\n",
      "Epoch  5, CIFAR-10 Batch 1:  Loss:     1.5148 Validation Accuracy: 0.470600\n",
      "Epoch  5, CIFAR-10 Batch 2:  Loss:     1.4112 Validation Accuracy: 0.476000\n",
      "Epoch  5, CIFAR-10 Batch 3:  Loss:     1.2810 Validation Accuracy: 0.478800\n",
      "Epoch  5, CIFAR-10 Batch 4:  Loss:     1.2836 Validation Accuracy: 0.489200\n",
      "Epoch  5, CIFAR-10 Batch 5:  Loss:     1.4230 Validation Accuracy: 0.487400\n",
      "Epoch  6, CIFAR-10 Batch 1:  Loss:     1.4504 Validation Accuracy: 0.487200\n",
      "Epoch  6, CIFAR-10 Batch 2:  Loss:     1.3552 Validation Accuracy: 0.495600\n",
      "Epoch  6, CIFAR-10 Batch 3:  Loss:     1.2334 Validation Accuracy: 0.493800\n",
      "Epoch  6, CIFAR-10 Batch 4:  Loss:     1.2348 Validation Accuracy: 0.504200\n",
      "Epoch  6, CIFAR-10 Batch 5:  Loss:     1.3717 Validation Accuracy: 0.496800\n",
      "Epoch  7, CIFAR-10 Batch 1:  Loss:     1.3938 Validation Accuracy: 0.504000\n",
      "Epoch  7, CIFAR-10 Batch 2:  Loss:     1.2980 Validation Accuracy: 0.509200\n",
      "Epoch  7, CIFAR-10 Batch 3:  Loss:     1.1894 Validation Accuracy: 0.509400\n",
      "Epoch  7, CIFAR-10 Batch 4:  Loss:     1.1832 Validation Accuracy: 0.519000\n",
      "Epoch  7, CIFAR-10 Batch 5:  Loss:     1.3232 Validation Accuracy: 0.506000\n",
      "Epoch  8, CIFAR-10 Batch 1:  Loss:     1.3368 Validation Accuracy: 0.519800\n",
      "Epoch  8, CIFAR-10 Batch 2:  Loss:     1.2504 Validation Accuracy: 0.523200\n",
      "Epoch  8, CIFAR-10 Batch 3:  Loss:     1.1463 Validation Accuracy: 0.520800\n",
      "Epoch  8, CIFAR-10 Batch 4:  Loss:     1.1464 Validation Accuracy: 0.526200\n",
      "Epoch  8, CIFAR-10 Batch 5:  Loss:     1.2778 Validation Accuracy: 0.520400\n",
      "Epoch  9, CIFAR-10 Batch 1:  Loss:     1.3038 Validation Accuracy: 0.526800\n",
      "Epoch  9, CIFAR-10 Batch 2:  Loss:     1.2251 Validation Accuracy: 0.529600\n",
      "Epoch  9, CIFAR-10 Batch 3:  Loss:     1.1087 Validation Accuracy: 0.530400\n",
      "Epoch  9, CIFAR-10 Batch 4:  Loss:     1.1106 Validation Accuracy: 0.532800\n",
      "Epoch  9, CIFAR-10 Batch 5:  Loss:     1.2319 Validation Accuracy: 0.529800\n",
      "Epoch 10, CIFAR-10 Batch 1:  Loss:     1.2682 Validation Accuracy: 0.534200\n",
      "Epoch 10, CIFAR-10 Batch 2:  Loss:     1.1951 Validation Accuracy: 0.538400\n",
      "Epoch 10, CIFAR-10 Batch 3:  Loss:     1.0760 Validation Accuracy: 0.532400\n",
      "Epoch 10, CIFAR-10 Batch 4:  Loss:     1.0811 Validation Accuracy: 0.541200\n",
      "Epoch 10, CIFAR-10 Batch 5:  Loss:     1.1920 Validation Accuracy: 0.539600\n",
      "Epoch 11, CIFAR-10 Batch 1:  Loss:     1.2363 Validation Accuracy: 0.538400\n",
      "Epoch 11, CIFAR-10 Batch 2:  Loss:     1.1611 Validation Accuracy: 0.547800\n",
      "Epoch 11, CIFAR-10 Batch 3:  Loss:     1.0511 Validation Accuracy: 0.540400\n",
      "Epoch 11, CIFAR-10 Batch 4:  Loss:     1.0567 Validation Accuracy: 0.545400\n",
      "Epoch 11, CIFAR-10 Batch 5:  Loss:     1.1546 Validation Accuracy: 0.548600\n",
      "Epoch 12, CIFAR-10 Batch 1:  Loss:     1.2028 Validation Accuracy: 0.549400\n",
      "Epoch 12, CIFAR-10 Batch 2:  Loss:     1.1360 Validation Accuracy: 0.550800\n",
      "Epoch 12, CIFAR-10 Batch 3:  Loss:     1.0246 Validation Accuracy: 0.546600\n",
      "Epoch 12, CIFAR-10 Batch 4:  Loss:     1.0333 Validation Accuracy: 0.555200\n",
      "Epoch 12, CIFAR-10 Batch 5:  Loss:     1.1274 Validation Accuracy: 0.549800\n",
      "Epoch 13, CIFAR-10 Batch 1:  Loss:     1.1772 Validation Accuracy: 0.550400\n",
      "Epoch 13, CIFAR-10 Batch 2:  Loss:     1.1110 Validation Accuracy: 0.558000\n",
      "Epoch 13, CIFAR-10 Batch 3:  Loss:     1.0031 Validation Accuracy: 0.552200\n",
      "Epoch 13, CIFAR-10 Batch 4:  Loss:     1.0099 Validation Accuracy: 0.561000\n",
      "Epoch 13, CIFAR-10 Batch 5:  Loss:     1.0992 Validation Accuracy: 0.555400\n",
      "Epoch 14, CIFAR-10 Batch 1:  Loss:     1.1524 Validation Accuracy: 0.554000\n",
      "Epoch 14, CIFAR-10 Batch 2:  Loss:     1.0921 Validation Accuracy: 0.561600\n",
      "Epoch 14, CIFAR-10 Batch 3:  Loss:     0.9825 Validation Accuracy: 0.558200\n",
      "Epoch 14, CIFAR-10 Batch 4:  Loss:     0.9886 Validation Accuracy: 0.564400\n",
      "Epoch 14, CIFAR-10 Batch 5:  Loss:     1.0699 Validation Accuracy: 0.557400\n",
      "Epoch 15, CIFAR-10 Batch 1:  Loss:     1.1363 Validation Accuracy: 0.553800\n",
      "Epoch 15, CIFAR-10 Batch 2:  Loss:     1.0788 Validation Accuracy: 0.566200\n",
      "Epoch 15, CIFAR-10 Batch 3:  Loss:     0.9648 Validation Accuracy: 0.560600\n",
      "Epoch 15, CIFAR-10 Batch 4:  Loss:     0.9692 Validation Accuracy: 0.567200\n",
      "Epoch 15, CIFAR-10 Batch 5:  Loss:     1.0454 Validation Accuracy: 0.562000\n",
      "Epoch 16, CIFAR-10 Batch 1:  Loss:     1.1210 Validation Accuracy: 0.559000\n",
      "Epoch 16, CIFAR-10 Batch 2:  Loss:     1.0762 Validation Accuracy: 0.564600\n",
      "Epoch 16, CIFAR-10 Batch 3:  Loss:     0.9463 Validation Accuracy: 0.560800\n",
      "Epoch 16, CIFAR-10 Batch 4:  Loss:     0.9469 Validation Accuracy: 0.567600\n",
      "Epoch 16, CIFAR-10 Batch 5:  Loss:     1.0239 Validation Accuracy: 0.568000\n",
      "Epoch 17, CIFAR-10 Batch 1:  Loss:     1.1070 Validation Accuracy: 0.560000\n",
      "Epoch 17, CIFAR-10 Batch 2:  Loss:     1.0681 Validation Accuracy: 0.566400\n",
      "Epoch 17, CIFAR-10 Batch 3:  Loss:     0.9279 Validation Accuracy: 0.560800\n",
      "Epoch 17, CIFAR-10 Batch 4:  Loss:     0.9338 Validation Accuracy: 0.570000\n",
      "Epoch 17, CIFAR-10 Batch 5:  Loss:     0.9989 Validation Accuracy: 0.573600\n",
      "Epoch 18, CIFAR-10 Batch 1:  Loss:     1.0790 Validation Accuracy: 0.566000\n",
      "Epoch 18, CIFAR-10 Batch 2:  Loss:     1.0562 Validation Accuracy: 0.569000\n",
      "Epoch 18, CIFAR-10 Batch 3:  Loss:     0.9132 Validation Accuracy: 0.567200\n",
      "Epoch 18, CIFAR-10 Batch 4:  Loss:     0.9143 Validation Accuracy: 0.576600\n",
      "Epoch 18, CIFAR-10 Batch 5:  Loss:     0.9758 Validation Accuracy: 0.574000\n",
      "Epoch 19, CIFAR-10 Batch 1:  Loss:     1.0455 Validation Accuracy: 0.569400\n",
      "Epoch 19, CIFAR-10 Batch 2:  Loss:     1.0401 Validation Accuracy: 0.572800\n",
      "Epoch 19, CIFAR-10 Batch 3:  Loss:     0.8916 Validation Accuracy: 0.570200\n",
      "Epoch 19, CIFAR-10 Batch 4:  Loss:     0.8997 Validation Accuracy: 0.577400\n",
      "Epoch 19, CIFAR-10 Batch 5:  Loss:     0.9546 Validation Accuracy: 0.577800\n",
      "Epoch 20, CIFAR-10 Batch 1:  Loss:     1.0225 Validation Accuracy: 0.574200\n",
      "Epoch 20, CIFAR-10 Batch 2:  Loss:     1.0223 Validation Accuracy: 0.577200\n",
      "Epoch 20, CIFAR-10 Batch 3:  Loss:     0.8831 Validation Accuracy: 0.570400\n",
      "Epoch 20, CIFAR-10 Batch 4:  Loss:     0.8841 Validation Accuracy: 0.579400\n",
      "Epoch 20, CIFAR-10 Batch 5:  Loss:     0.9390 Validation Accuracy: 0.576600\n",
      "Epoch 21, CIFAR-10 Batch 1:  Loss:     1.0019 Validation Accuracy: 0.579600\n",
      "Epoch 21, CIFAR-10 Batch 2:  Loss:     1.0079 Validation Accuracy: 0.583000\n",
      "Epoch 21, CIFAR-10 Batch 3:  Loss:     0.8868 Validation Accuracy: 0.567600\n",
      "Epoch 21, CIFAR-10 Batch 4:  Loss:     0.8806 Validation Accuracy: 0.576800\n",
      "Epoch 21, CIFAR-10 Batch 5:  Loss:     0.9268 Validation Accuracy: 0.577400\n",
      "Epoch 22, CIFAR-10 Batch 1:  Loss:     0.9932 Validation Accuracy: 0.578600\n",
      "Epoch 22, CIFAR-10 Batch 2:  Loss:     0.9969 Validation Accuracy: 0.586600\n",
      "Epoch 22, CIFAR-10 Batch 3:  Loss:     0.8697 Validation Accuracy: 0.572200\n",
      "Epoch 22, CIFAR-10 Batch 4:  Loss:     0.8499 Validation Accuracy: 0.585600\n",
      "Epoch 22, CIFAR-10 Batch 5:  Loss:     0.8999 Validation Accuracy: 0.583800\n",
      "Epoch 23, CIFAR-10 Batch 1:  Loss:     0.9718 Validation Accuracy: 0.578000\n",
      "Epoch 23, CIFAR-10 Batch 2:  Loss:     0.9958 Validation Accuracy: 0.589400\n",
      "Epoch 23, CIFAR-10 Batch 3:  Loss:     0.8312 Validation Accuracy: 0.583600\n",
      "Epoch 23, CIFAR-10 Batch 4:  Loss:     0.8333 Validation Accuracy: 0.596000\n",
      "Epoch 23, CIFAR-10 Batch 5:  Loss:     0.8798 Validation Accuracy: 0.586600\n",
      "Epoch 24, CIFAR-10 Batch 1:  Loss:     0.9623 Validation Accuracy: 0.577200\n",
      "Epoch 24, CIFAR-10 Batch 2:  Loss:     0.9809 Validation Accuracy: 0.589800\n",
      "Epoch 24, CIFAR-10 Batch 3:  Loss:     0.8169 Validation Accuracy: 0.589400\n",
      "Epoch 24, CIFAR-10 Batch 4:  Loss:     0.8180 Validation Accuracy: 0.593000\n",
      "Epoch 24, CIFAR-10 Batch 5:  Loss:     0.8642 Validation Accuracy: 0.590600\n",
      "Epoch 25, CIFAR-10 Batch 1:  Loss:     0.9465 Validation Accuracy: 0.581200\n",
      "Epoch 25, CIFAR-10 Batch 2:  Loss:     0.9722 Validation Accuracy: 0.587600\n",
      "Epoch 25, CIFAR-10 Batch 3:  Loss:     0.8104 Validation Accuracy: 0.589600\n",
      "Epoch 25, CIFAR-10 Batch 4:  Loss:     0.8072 Validation Accuracy: 0.593400\n",
      "Epoch 25, CIFAR-10 Batch 5:  Loss:     0.8492 Validation Accuracy: 0.590400\n",
      "Epoch 26, CIFAR-10 Batch 1:  Loss:     0.9257 Validation Accuracy: 0.584600\n",
      "Epoch 26, CIFAR-10 Batch 2:  Loss:     0.9561 Validation Accuracy: 0.588200\n",
      "Epoch 26, CIFAR-10 Batch 3:  Loss:     0.8020 Validation Accuracy: 0.586600\n",
      "Epoch 26, CIFAR-10 Batch 4:  Loss:     0.8045 Validation Accuracy: 0.590400\n",
      "Epoch 26, CIFAR-10 Batch 5:  Loss:     0.8390 Validation Accuracy: 0.590200\n",
      "Epoch 27, CIFAR-10 Batch 1:  Loss:     0.9071 Validation Accuracy: 0.586800\n",
      "Epoch 27, CIFAR-10 Batch 2:  Loss:     0.9495 Validation Accuracy: 0.586000\n",
      "Epoch 27, CIFAR-10 Batch 3:  Loss:     0.7921 Validation Accuracy: 0.589800\n",
      "Epoch 27, CIFAR-10 Batch 4:  Loss:     0.8000 Validation Accuracy: 0.589200\n",
      "Epoch 27, CIFAR-10 Batch 5:  Loss:     0.8248 Validation Accuracy: 0.594600\n",
      "Epoch 28, CIFAR-10 Batch 1:  Loss:     0.8928 Validation Accuracy: 0.583000\n",
      "Epoch 28, CIFAR-10 Batch 2:  Loss:     0.9410 Validation Accuracy: 0.587800\n",
      "Epoch 28, CIFAR-10 Batch 3:  Loss:     0.7734 Validation Accuracy: 0.594600\n",
      "Epoch 28, CIFAR-10 Batch 4:  Loss:     0.7897 Validation Accuracy: 0.592600\n",
      "Epoch 28, CIFAR-10 Batch 5:  Loss:     0.8101 Validation Accuracy: 0.597800\n",
      "Epoch 29, CIFAR-10 Batch 1:  Loss:     0.8767 Validation Accuracy: 0.583800\n",
      "Epoch 29, CIFAR-10 Batch 2:  Loss:     0.9351 Validation Accuracy: 0.589000\n",
      "Epoch 29, CIFAR-10 Batch 3:  Loss:     0.7621 Validation Accuracy: 0.595000\n",
      "Epoch 29, CIFAR-10 Batch 4:  Loss:     0.7765 Validation Accuracy: 0.591400\n",
      "Epoch 29, CIFAR-10 Batch 5:  Loss:     0.7966 Validation Accuracy: 0.601200\n",
      "Epoch 30, CIFAR-10 Batch 1:  Loss:     0.8622 Validation Accuracy: 0.586000\n",
      "Epoch 30, CIFAR-10 Batch 2:  Loss:     0.9329 Validation Accuracy: 0.587000\n",
      "Epoch 30, CIFAR-10 Batch 3:  Loss:     0.7523 Validation Accuracy: 0.591600\n",
      "Epoch 30, CIFAR-10 Batch 4:  Loss:     0.7665 Validation Accuracy: 0.593200\n",
      "Epoch 30, CIFAR-10 Batch 5:  Loss:     0.7823 Validation Accuracy: 0.602000\n"
     ]
    }
   ],
   "source": [
    "\"\"\"\n",
    "DON'T MODIFY ANYTHING IN THIS CELL\n",
    "\"\"\"\n",
    "save_model_path = './image_classification'\n",
    "\n",
    "print('Training...')\n",
    "with tf.Session() as sess:\n",
    "    # Initializing the variables\n",
    "    sess.run(tf.global_variables_initializer())\n",
    "    \n",
    "    # Training cycle\n",
    "    for epoch in range(epochs):\n",
    "        # Loop over all batches\n",
    "        n_batches = 5\n",
    "        for batch_i in range(1, n_batches + 1):\n",
    "            for batch_features, batch_labels in helper.load_preprocess_training_batch(batch_i, batch_size):\n",
    "                train_neural_network(sess, optimizer, keep_probability, batch_features, batch_labels)\n",
    "            print('Epoch {:>2}, CIFAR-10 Batch {}:  '.format(epoch + 1, batch_i), end='')\n",
    "            print_stats(sess, batch_features, batch_labels, cost, accuracy)\n",
    "            \n",
    "    # Save Model\n",
    "    saver = tf.train.Saver()\n",
    "    save_path = saver.save(sess, save_model_path)"
   ]
  },
  {
   "cell_type": "markdown",
   "metadata": {
    "deletable": true,
    "editable": true
   },
   "source": [
    "# Checkpoint\n",
    "The model has been saved to disk.\n",
    "## Test Model\n",
    "Test your model against the test dataset.  This will be your final accuracy. You should have an accuracy greater than 50%. If you don't, keep tweaking the model architecture and parameters."
   ]
  },
  {
   "cell_type": "code",
   "execution_count": 13,
   "metadata": {
    "collapsed": false,
    "deletable": true,
    "editable": true
   },
   "outputs": [
    {
     "name": "stdout",
     "output_type": "stream",
     "text": [
      "Testing Accuracy: 0.6023552387952804\n",
      "\n"
     ]
    },
    {
     "data": {
      "image/png": "[encoded data removed]",
      "text/plain": [
       "<matplotlib.figure.Figure at 0x11b7c63c8>"
      ]
     },
     "metadata": {
      "image/png": {
       "height": 319,
       "width": 355
      }
     },
     "output_type": "display_data"
    }
   ],
   "source": [
    "\"\"\"\n",
    "DON'T MODIFY ANYTHING IN THIS CELL\n",
    "\"\"\"\n",
    "%matplotlib inline\n",
    "%config InlineBackend.figure_format = 'retina'\n",
    "\n",
    "import tensorflow as tf\n",
    "import pickle\n",
    "import helper\n",
    "import random\n",
    "\n",
    "# Set batch size if not already set\n",
    "try:\n",
    "    if batch_size:\n",
    "        pass\n",
    "except NameError:\n",
    "    batch_size = 64\n",
    "\n",
    "save_model_path = './image_classification'\n",
    "n_samples = 4\n",
    "top_n_predictions = 3\n",
    "\n",
    "def test_model():\n",
    "    \"\"\"\n",
    "    Test the saved model against the test dataset\n",
    "    \"\"\"\n",
    "\n",
    "    test_features, test_labels = pickle.load(open('preprocess_training.p', mode='rb'))\n",
    "    loaded_graph = tf.Graph()\n",
    "\n",
    "    with tf.Session(graph=loaded_graph) as sess:\n",
    "        # Load model\n",
    "        loader = tf.train.import_meta_graph(save_model_path + '.meta')\n",
    "        loader.restore(sess, save_model_path)\n",
    "\n",
    "        # Get Tensors from loaded model\n",
    "        loaded_x = loaded_graph.get_tensor_by_name('x:0')\n",
    "        loaded_y = loaded_graph.get_tensor_by_name('y:0')\n",
    "        loaded_keep_prob = loaded_graph.get_tensor_by_name('keep_prob:0')\n",
    "        loaded_logits = loaded_graph.get_tensor_by_name('logits:0')\n",
    "        loaded_acc = loaded_graph.get_tensor_by_name('accuracy:0')\n",
    "        \n",
    "        # Get accuracy in batches for memory limitations\n",
    "        test_batch_acc_total = 0\n",
    "        test_batch_count = 0\n",
    "        \n",
    "        for train_feature_batch, train_label_batch in helper.batch_features_labels(test_features, test_labels, batch_size):\n",
    "            test_batch_acc_total += sess.run(\n",
    "                loaded_acc,\n",
    "                feed_dict={loaded_x: train_feature_batch, loaded_y: train_label_batch, loaded_keep_prob: 1.0})\n",
    "            test_batch_count += 1\n",
    "\n",
    "        print('Testing Accuracy: {}\\n'.format(test_batch_acc_total/test_batch_count))\n",
    "\n",
    "        # Print Random Samples\n",
    "        random_test_features, random_test_labels = tuple(zip(*random.sample(list(zip(test_features, test_labels)), n_samples)))\n",
    "        random_test_predictions = sess.run(\n",
    "            tf.nn.top_k(tf.nn.softmax(loaded_logits), top_n_predictions),\n",
    "            feed_dict={loaded_x: random_test_features, loaded_y: random_test_labels, loaded_keep_prob: 1.0})\n",
    "        helper.display_image_predictions(random_test_features, random_test_labels, random_test_predictions)\n",
    "\n",
    "\n",
    "test_model()"
   ]
  },
  {
   "cell_type": "markdown",
   "metadata": {
    "deletable": true,
    "editable": true
   },
   "source": [
    "## Why 50-70% Accuracy?\n",
    "You might be wondering why you can't get an accuracy any higher. First things first, 50% isn't bad for a simple CNN.  Pure guessing would get you 10% accuracy. However, you might notice people are getting scores [well above 70%](http://rodrigob.github.io/are_we_there_yet/build/classification_datasets_results.html#43494641522d3130).  That's because we haven't taught you all there is to know about neural networks. We still need to cover a few more techniques.\n",
    "## Submitting This Project\n",
    "When submitting this project, make sure to run all the cells before saving the notebook.  Save the notebook file as \"dlnd_image_classification.ipynb\" and save it as a HTML file under \"File\" -> \"Download as\".  Include the \"helper.py\" and \"problem_unittests.py\" files in your submission."
   ]
  }
 ],
 "metadata": {
  "kernelspec": {
   "display_name": "Python 3",
   "language": "python",
   "name": "python3"
  },
  "language_info": {
   "codemirror_mode": {
    "name": "ipython",
    "version": 3
   },
   "file_extension": ".py",
   "mimetype": "text/x-python",
   "name": "python",
   "nbconvert_exporter": "python",
   "pygments_lexer": "ipython3",
   "version": "3.5.2"
  },
  "widgets": {
   "state": {},
   "version": "1.1.2"
  }
 },
 "nbformat": 4,
 "nbformat_minor": 0
}
